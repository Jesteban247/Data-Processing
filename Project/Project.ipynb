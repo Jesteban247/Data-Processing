{
  "nbformat": 4,
  "nbformat_minor": 0,
  "metadata": {
    "colab": {
      "provenance": [],
      "include_colab_link": true
    },
    "kernelspec": {
      "name": "python3",
      "display_name": "Python 3"
    },
    "language_info": {
      "name": "python"
    }
  },
  "cells": [
    {
      "cell_type": "markdown",
      "metadata": {
        "id": "view-in-github",
        "colab_type": "text"
      },
      "source": [
        "<a href=\"https://colab.research.google.com/github/Jesteban247/Data-Processing/blob/main/Project/Project.ipynb\" target=\"_parent\"><img src=\"https://colab.research.google.com/assets/colab-badge.svg\" alt=\"Open In Colab\"/></a>"
      ]
    },
    {
      "cell_type": "markdown",
      "source": [
        "# **Install PySpark**"
      ],
      "metadata": {
        "id": "ZKuacYTbVAjf"
      }
    },
    {
      "cell_type": "code",
      "execution_count": null,
      "metadata": {
        "id": "Q9xWT6W8Tc0V",
        "colab": {
          "base_uri": "https://localhost:8080/"
        },
        "outputId": "356ee24c-fe04-48f4-bbe0-ea442b843efe"
      },
      "outputs": [
        {
          "output_type": "stream",
          "name": "stdout",
          "text": [
            "\u001b[33m\r0% [Working]\u001b[0m\r            \rGet:1 https://cloud.r-project.org/bin/linux/ubuntu jammy-cran40/ InRelease [3,626 B]\n",
            "\u001b[33m\r0% [Waiting for headers] [Waiting for headers] [1 InRelease 0 B/3,626 B 0%] [Co\u001b[0m\u001b[33m\r0% [Waiting for headers] [Waiting for headers] [Connecting to ppa.launchpadcont\u001b[0m\r                                                                               \rGet:2 http://security.ubuntu.com/ubuntu jammy-security InRelease [110 kB]\n",
            "\u001b[33m\r0% [Waiting for headers] [2 InRelease 14.2 kB/110 kB 13%] [Connecting to ppa.la\u001b[0m\r                                                                               \rHit:3 http://archive.ubuntu.com/ubuntu jammy InRelease\n",
            "\u001b[33m\r0% [Waiting for headers] [2 InRelease 14.2 kB/110 kB 13%] [Connecting to ppa.la\u001b[0m\r                                                                               \rGet:4 https://developer.download.nvidia.com/compute/cuda/repos/ubuntu2204/x86_64  InRelease [1,581 B]\n",
            "Get:5 http://archive.ubuntu.com/ubuntu jammy-updates InRelease [119 kB]\n",
            "Hit:6 http://archive.ubuntu.com/ubuntu jammy-backports InRelease\n",
            "Get:7 https://developer.download.nvidia.com/compute/cuda/repos/ubuntu2204/x86_64  Packages [736 kB]\n",
            "Hit:8 https://ppa.launchpadcontent.net/c2d4u.team/c2d4u4.0+/ubuntu jammy InRelease\n",
            "Get:9 http://security.ubuntu.com/ubuntu jammy-security/restricted amd64 Packages [1,954 kB]\n",
            "Hit:10 https://ppa.launchpadcontent.net/deadsnakes/ppa/ubuntu jammy InRelease\n",
            "Get:11 http://archive.ubuntu.com/ubuntu jammy-updates/universe amd64 Packages [1,349 kB]\n",
            "Hit:12 https://ppa.launchpadcontent.net/graphics-drivers/ppa/ubuntu jammy InRelease\n",
            "Get:13 http://security.ubuntu.com/ubuntu jammy-security/main amd64 Packages [1,564 kB]\n",
            "Hit:14 https://ppa.launchpadcontent.net/ubuntugis/ppa/ubuntu jammy InRelease\n",
            "Get:15 http://archive.ubuntu.com/ubuntu jammy-updates/restricted amd64 Packages [1,997 kB]\n",
            "Get:16 http://archive.ubuntu.com/ubuntu jammy-updates/main amd64 Packages [1,846 kB]\n",
            "Fetched 9,680 kB in 2s (4,966 kB/s)\n",
            "Reading package lists... Done\n",
            "Building dependency tree... Done\n",
            "Reading state information... Done\n",
            "38 packages can be upgraded. Run 'apt list --upgradable' to see them.\n",
            "tar: spark-3.2.1-bin-hadoop3.2.tgz: Cannot open: No such file or directory\n",
            "tar: Error is not recoverable: exiting now\n",
            "Collecting pyspark\n",
            "  Downloading pyspark-3.5.1.tar.gz (317.0 MB)\n",
            "\u001b[2K     \u001b[90m━━━━━━━━━━━━━━━━━━━━━━━━━━━━━━━━━━━━━━━━\u001b[0m \u001b[32m317.0/317.0 MB\u001b[0m \u001b[31m4.1 MB/s\u001b[0m eta \u001b[36m0:00:00\u001b[0m\n",
            "\u001b[?25h  Preparing metadata (setup.py) ... \u001b[?25l\u001b[?25hdone\n",
            "Requirement already satisfied: py4j==0.10.9.7 in /usr/local/lib/python3.10/dist-packages (from pyspark) (0.10.9.7)\n",
            "Building wheels for collected packages: pyspark\n",
            "  Building wheel for pyspark (setup.py) ... \u001b[?25l\u001b[?25hdone\n",
            "  Created wheel for pyspark: filename=pyspark-3.5.1-py2.py3-none-any.whl size=317488493 sha256=e0897ba54085ca844ebaf4a1b4390239a5bf38eaf6759d992abf2d0e153da993\n",
            "  Stored in directory: /root/.cache/pip/wheels/80/1d/60/2c256ed38dddce2fdd93be545214a63e02fbd8d74fb0b7f3a6\n",
            "Successfully built pyspark\n",
            "Installing collected packages: pyspark\n",
            "Successfully installed pyspark-3.5.1\n",
            "Requirement already satisfied: py4j in /usr/local/lib/python3.10/dist-packages (0.10.9.7)\n"
          ]
        },
        {
          "output_type": "execute_result",
          "data": {
            "text/plain": [
              "<pyspark.sql.session.SparkSession at 0x7a505001ef50>"
            ],
            "text/html": [
              "\n",
              "            <div>\n",
              "                <p><b>SparkSession - in-memory</b></p>\n",
              "                \n",
              "        <div>\n",
              "            <p><b>SparkContext</b></p>\n",
              "\n",
              "            <p><a href=\"http://af688e85dc09:4040\">Spark UI</a></p>\n",
              "\n",
              "            <dl>\n",
              "              <dt>Version</dt>\n",
              "                <dd><code>v3.5.1</code></dd>\n",
              "              <dt>Master</dt>\n",
              "                <dd><code>local[*]</code></dd>\n",
              "              <dt>AppName</dt>\n",
              "                <dd><code>Final_Project</code></dd>\n",
              "            </dl>\n",
              "        </div>\n",
              "        \n",
              "            </div>\n",
              "        "
            ]
          },
          "metadata": {},
          "execution_count": 1
        }
      ],
      "source": [
        "!sudo apt update\n",
        "!apt-get install openjdk-8-jdk-headless -qq > /dev/null\n",
        "#Check this site for the latest download link https://www.apache.org/dyn/closer.lua/spark/spark-3.2.1/spark-3.2.1-bin-hadoop3.2.tgz\n",
        "!wget -q https://dlcdn.apache.org/spark/spark-3.2.1/spark-3.2.1-bin-hadoop3.2.tgz\n",
        "!tar xf spark-3.2.1-bin-hadoop3.2.tgz\n",
        "!pip install -q findspark\n",
        "!pip install pyspark\n",
        "!pip install py4j\n",
        "\n",
        "import os\n",
        "import sys\n",
        "# os.environ[\"JAVA_HOME\"] = \"/usr/lib/jvm/java-8-openjdk-amd64\"\n",
        "# os.environ[\"SPARK_HOME\"] = \"/content/spark-3.2.1-bin-hadoop3.2\"\n",
        "\n",
        "\n",
        "import findspark\n",
        "findspark.init()\n",
        "findspark.find()\n",
        "\n",
        "import pyspark\n",
        "\n",
        "from pyspark.sql import DataFrame, SparkSession\n",
        "from typing import List\n",
        "import pyspark.sql.types as T\n",
        "import pyspark.sql.functions as F\n",
        "\n",
        "spark= SparkSession \\\n",
        "       .builder \\\n",
        "       .appName(\"Final_Project\") \\\n",
        "       .getOrCreate()\n",
        "\n",
        "spark"
      ]
    },
    {
      "cell_type": "markdown",
      "source": [
        "# **Other Libraries**"
      ],
      "metadata": {
        "id": "WZaRYbsuUzA5"
      }
    },
    {
      "cell_type": "code",
      "source": [
        "import requests\n",
        "import matplotlib.pyplot as plt\n",
        "import seaborn as sns\n",
        "import plotly.express as px\n",
        "import pandas as pd\n",
        "\n",
        "from bs4 import BeautifulSoup\n",
        "from pyspark.sql.functions import col, isnan, when, count, regexp_replace\n",
        "\n",
        "#Bonus\n",
        "from pyspark.sql.functions import monotonically_increasing_id"
      ],
      "metadata": {
        "id": "p00j3ViIVGU4"
      },
      "execution_count": null,
      "outputs": []
    },
    {
      "cell_type": "code",
      "source": [
        "from google.colab import drive\n",
        "drive.mount('/content/drive')"
      ],
      "metadata": {
        "id": "b-Y2FMzy9CS2"
      },
      "execution_count": null,
      "outputs": []
    },
    {
      "cell_type": "markdown",
      "source": [
        "# **Import Data**"
      ],
      "metadata": {
        "id": "R--_ZbYmV1ft"
      }
    },
    {
      "cell_type": "markdown",
      "source": [
        "The data can be downloaded from GitHub, remember to change the path to use it."
      ],
      "metadata": {
        "id": "Esf23XZezrY3"
      }
    },
    {
      "cell_type": "code",
      "source": [
        "# Convert to a df\n",
        "Arrest_df = spark.read.csv(\"/content/drive/MyDrive/Data Processing/Data/Arrest.csv\", header=True, inferSchema=True)\n",
        "Collisions_df= spark.read.csv(\"/content/drive/MyDrive/Data Processing/Data/Collisions.csv\", header=True, inferSchema=True)\n",
        "Education_df = spark.read.csv(\"/content/drive/MyDrive/Data Processing/Data/Education.csv\", header=True, inferSchema=True)\n",
        "Poverty_df= spark.read.csv(\"/content/drive/MyDrive/Data Processing/Data/Poverty.csv\", header=True, inferSchema=True)"
      ],
      "metadata": {
        "id": "xuDAbHBqz8sb"
      },
      "execution_count": null,
      "outputs": []
    },
    {
      "cell_type": "markdown",
      "source": [
        "# **Exploratory Analisis**"
      ],
      "metadata": {
        "id": "3kiOjIHybKMT"
      }
    },
    {
      "cell_type": "markdown",
      "source": [
        "## Arrests"
      ],
      "metadata": {
        "id": "SeaUbm6Cb3U5"
      }
    },
    {
      "cell_type": "markdown",
      "source": [
        "This is a breakdown of every arrest effected in NYC by the NYPD during the current year.\n",
        "This data is manually extracted every quarter and reviewed by the Office of Management Analysis and Planning.\n",
        "Each record represents an arrest effected in NYC by the NYPD and includes information about the type of crime, the location and time of enforcement."
      ],
      "metadata": {
        "id": "E3jR_uvJ_ZaE"
      }
    },
    {
      "cell_type": "markdown",
      "source": [
        "### Overview\n",
        "\n",
        "\n",
        "\n"
      ],
      "metadata": {
        "id": "0rLk5zIY_Iwc"
      }
    },
    {
      "cell_type": "code",
      "source": [
        "# Df\n",
        "Arrest_df.show()"
      ],
      "metadata": {
        "id": "3GREDuZw1n-J"
      },
      "execution_count": null,
      "outputs": []
    },
    {
      "cell_type": "code",
      "source": [
        "# Show the schema\n",
        "Arrest_df.printSchema()"
      ],
      "metadata": {
        "id": "k20SHTf_2HWR"
      },
      "execution_count": null,
      "outputs": []
    },
    {
      "cell_type": "code",
      "source": [
        "# Display summary statistics\n",
        "Arrest_df.describe().show()"
      ],
      "metadata": {
        "id": "pVJKqnGq2eoW"
      },
      "execution_count": null,
      "outputs": []
    },
    {
      "cell_type": "code",
      "source": [
        "# Count the number of rows in the DataFrame\n",
        "row_count = Arrest_df.count()\n",
        "print(\"Total number of rows:\", row_count)\n",
        "\n",
        "# Show the number of columns\n",
        "col_count = len(Arrest_df.columns)\n",
        "print(\"Total number of columns:\", col_count)"
      ],
      "metadata": {
        "id": "gLMBzqbk2q_P"
      },
      "execution_count": null,
      "outputs": []
    },
    {
      "cell_type": "markdown",
      "source": [
        "### Plots by category"
      ],
      "metadata": {
        "id": "pe0eKZgU_OWh"
      }
    },
    {
      "cell_type": "code",
      "source": [
        "# Aggregating data for visualization in Spark\n",
        "offense_counts = Arrest_df.groupBy(\"OFNS_DESC\").count()\n",
        "\n",
        "# Finding top 5 offenses\n",
        "top_offenses = offense_counts.orderBy(offense_counts[\"count\"].desc()).limit(5)\n",
        "\n",
        "# Convert to Pandas for visualization\n",
        "top_offenses_df = top_offenses.toPandas()\n",
        "\n",
        "# Plotting the distribution of arrests by offense description horizontally\n",
        "plt.figure(figsize=(8, 6))\n",
        "plt.barh(top_offenses_df[\"OFNS_DESC\"], top_offenses_df[\"count\"], color='skyblue')\n",
        "plt.xlabel(\"Number of Arrests\")\n",
        "plt.ylabel(\"Offense Description\")\n",
        "plt.title(\"Top 5 Offenses by Number of Arrests\")\n",
        "plt.gca().invert_yaxis()  # Invert y-axis to have the highest count at the top\n",
        "plt.show()"
      ],
      "metadata": {
        "id": "3t-buD9J8fTf"
      },
      "execution_count": null,
      "outputs": []
    },
    {
      "cell_type": "code",
      "source": [
        "# Group the data by perpetrator sex and count the arrests\n",
        "arrests_by_sex = Arrest_df.groupBy(\"PERP_SEX\").count()\n",
        "\n",
        "# Convert the data to a Pandas DataFrame\n",
        "arrests_by_sex_df = arrests_by_sex.toPandas()\n",
        "\n",
        "# Assigning colors to each sex\n",
        "colors = ['pink', 'blue', 'grey']\n",
        "\n",
        "# Create a bar chart of the arrests by sex with different colors for each sex\n",
        "plt.bar(arrests_by_sex_df[\"PERP_SEX\"], arrests_by_sex_df[\"count\"], color=colors)\n",
        "plt.xlabel(\"Sex\")\n",
        "plt.ylabel(\"Number of Arrests\")\n",
        "plt.title(\"Arrests by Perpetrator Sex\")\n",
        "plt.show()"
      ],
      "metadata": {
        "id": "zTU0xKQr-MMg"
      },
      "execution_count": null,
      "outputs": []
    },
    {
      "cell_type": "code",
      "source": [
        "# Group the data by race and count the arrests\n",
        "arrests_by_race = Arrest_df.groupBy(\"PERP_RACE\").count()\n",
        "\n",
        "# Find the top 5 races\n",
        "top_races = arrests_by_race.orderBy(arrests_by_race[\"count\"].desc()).limit(5)\n",
        "\n",
        "# Convert the data to a Pandas DataFrame\n",
        "top_races_df = top_races.toPandas()\n",
        "\n",
        "# Create a horizontal bar chart of the arrests by race\n",
        "plt.barh(top_races_df[\"PERP_RACE\"], top_races_df[\"count\"], color='skyblue')\n",
        "plt.ylabel(\"Race\")\n",
        "plt.xlabel(\"Number of Arrests\")\n",
        "plt.title(\"Top 5 Races by Number of Arrests\")\n",
        "plt.show()"
      ],
      "metadata": {
        "id": "2MjdkWq2-dSx"
      },
      "execution_count": null,
      "outputs": []
    },
    {
      "cell_type": "code",
      "source": [
        "# Group the data by borough and count the arrests\n",
        "arrests_by_borough = Arrest_df.groupBy(\"ARREST_BORO\").count()\n",
        "\n",
        "# Convert the data to a Pandas DataFrame\n",
        "arrests_by_borough_df = arrests_by_borough.toPandas()\n",
        "\n",
        "# Create a bar chart of the arrests by borough with different colors for each bar\n",
        "colors = plt.cm.tab10(range(len(arrests_by_borough_df)))\n",
        "plt.bar(arrests_by_borough_df[\"ARREST_BORO\"], arrests_by_borough_df[\"count\"], color=colors)\n",
        "plt.xlabel(\"Borough\")\n",
        "plt.ylabel(\"Number of Arrests\")\n",
        "plt.title(\"Arrests by Borough\")\n",
        "plt.show()\n"
      ],
      "metadata": {
        "id": "kdcEuWsq-2WK"
      },
      "execution_count": null,
      "outputs": []
    },
    {
      "cell_type": "code",
      "source": [
        "# Group the data by age group and count the arrests\n",
        "arrests_by_age_group = Arrest_df.groupBy(\"AGE_GROUP\").count()\n",
        "\n",
        "# Convert the data to a Pandas DataFrame\n",
        "arrests_by_age_group_df = arrests_by_age_group.toPandas()\n",
        "\n",
        "# Create a bar chart of the arrests by age group with different colors for each bar\n",
        "colors = plt.cm.tab10(range(len(arrests_by_age_group_df)))\n",
        "plt.bar(arrests_by_age_group_df[\"AGE_GROUP\"], arrests_by_age_group_df[\"count\"], color=colors)\n",
        "plt.xlabel(\"Age Group\")\n",
        "plt.ylabel(\"Number of Arrests\")\n",
        "plt.title(\"Arrests by Age Group\")\n",
        "plt.xticks(rotation=45)  # Rotate x-axis labels for better readability\n",
        "plt.show()"
      ],
      "metadata": {
        "id": "OA0DbJ0g_VhO"
      },
      "execution_count": null,
      "outputs": []
    },
    {
      "cell_type": "markdown",
      "source": [
        "### Plots with relationships"
      ],
      "metadata": {
        "id": "cv8E8fWA_8nA"
      }
    },
    {
      "cell_type": "code",
      "source": [
        "# Group the data by age group and perpetrator race, and count the arrests\n",
        "arrests_by_age_race = Arrest_df.groupBy(\"AGE_GROUP\", \"PERP_RACE\").count()\n",
        "\n",
        "# Find the top 3 racial categories\n",
        "top_races = arrests_by_age_race.groupBy(\"PERP_RACE\").sum(\"count\").orderBy(\"sum(count)\", ascending=False).limit(3).select(\"PERP_RACE\")\n",
        "\n",
        "# Filter the data for the top 3 racial categories\n",
        "arrests_by_age_race_filtered = arrests_by_age_race.join(top_races, \"PERP_RACE\")\n",
        "\n",
        "# Convert the data to a Pandas DataFrame\n",
        "arrests_by_age_race_df = arrests_by_age_race_filtered.toPandas()\n",
        "\n",
        "# Plotting using seaborn\n",
        "plt.figure(figsize=(10, 6))\n",
        "sns.barplot(x='PERP_RACE', y='count', hue='AGE_GROUP', data=arrests_by_age_race_df, palette=\"colorblind\")\n",
        "plt.xlabel(\"Perpetrator Race\")\n",
        "plt.ylabel(\"Number of Arrests\")\n",
        "plt.title(\"Arrests by Perpetrator Race and Age Group (Top 3)\")\n",
        "plt.xticks(rotation=45)  # Rotate x-axis labels for better readability\n",
        "plt.legend(title='Age Group')\n",
        "plt.show()"
      ],
      "metadata": {
        "id": "zuoUIRY0Bamr"
      },
      "execution_count": null,
      "outputs": []
    },
    {
      "cell_type": "markdown",
      "source": [
        "### Time lapse"
      ],
      "metadata": {
        "id": "RSlejd99BxAg"
      }
    },
    {
      "cell_type": "code",
      "source": [
        "# Extract month-year from ARREST_DATE\n",
        "Arrest_df = Arrest_df.withColumn(\"MonthYear\", F.date_format(F.to_date(\"ARREST_DATE\", \"MM/dd/yyyy\"), \"yyyy-MM\"))\n",
        "\n",
        "# Group the data by month-year and count the arrests\n",
        "arrests_over_time = Arrest_df.groupBy(\"MonthYear\").count().orderBy(\"MonthYear\")\n",
        "\n",
        "# Convert the data to a Pandas DataFrame\n",
        "arrests_over_time_df = arrests_over_time.toPandas()\n",
        "\n",
        "# Plotting the distribution of arrests over time using plotly\n",
        "fig = px.line(arrests_over_time_df, x='MonthYear', y='count', title='Distribution of Arrests Over Time')\n",
        "fig.update_xaxes(title_text='Month-Year')\n",
        "fig.update_yaxes(title_text='Number of Arrests')\n",
        "fig.show()"
      ],
      "metadata": {
        "id": "uZD_5WOJTpqw"
      },
      "execution_count": null,
      "outputs": []
    },
    {
      "cell_type": "markdown",
      "source": [
        "### Map"
      ],
      "metadata": {
        "id": "b63pizdpC3Cm"
      }
    },
    {
      "cell_type": "code",
      "source": [
        "# Convert the latitude and longitude data to Pandas DataFrame\n",
        "latitude_longitude_df = Arrest_df.select(\"Latitude\", \"Longitude\").toPandas()\n",
        "\n",
        "# Plotting latitude and longitude data on an interactive map using plotly\n",
        "fig = px.scatter_mapbox(latitude_longitude_df, lat=\"Latitude\", lon=\"Longitude\",\n",
        "                        title=\"Arrest Locations\",\n",
        "                        zoom=10)  # Adjust the zoom level as needed\n",
        "fig.update_layout(mapbox_style=\"open-street-map\")\n",
        "fig.show()\n"
      ],
      "metadata": {
        "id": "8AJLomXdC3bU"
      },
      "execution_count": null,
      "outputs": []
    },
    {
      "cell_type": "markdown",
      "source": [
        "## Collisions"
      ],
      "metadata": {
        "id": "nbWRb2830eWV"
      }
    },
    {
      "cell_type": "markdown",
      "source": [
        "The Motor Vehicle Collisions vehicle table contains details on each vehicle involved in the crash. Each row represents a motor vehicle involved in a crash. The data in this table goes back to April 2016 when crash reporting switched to an electronic system."
      ],
      "metadata": {
        "id": "Jkge_Uy9_9zs"
      }
    },
    {
      "cell_type": "markdown",
      "source": [
        "### Overview"
      ],
      "metadata": {
        "id": "fToKj0OS_ycI"
      }
    },
    {
      "cell_type": "code",
      "source": [
        "# Df\n",
        "Collisions_df.show()"
      ],
      "metadata": {
        "id": "9UiT2hEG-yNn"
      },
      "execution_count": null,
      "outputs": []
    },
    {
      "cell_type": "code",
      "source": [
        "# Show the schema\n",
        "Collisions_df.printSchema()"
      ],
      "metadata": {
        "id": "y3Sl13UY-6Fj"
      },
      "execution_count": null,
      "outputs": []
    },
    {
      "cell_type": "code",
      "source": [
        "# Display summary statistics\n",
        "Collisions_df.describe().show()"
      ],
      "metadata": {
        "id": "T7EseWFZ-7X9"
      },
      "execution_count": null,
      "outputs": []
    },
    {
      "cell_type": "code",
      "source": [
        "# Count the number of rows in the DataFrame\n",
        "row_count = Collisions_df.count()\n",
        "print(\"Total number of rows:\", row_count)\n",
        "\n",
        "# Show the number of columns\n",
        "col_count = len(Collisions_df.columns)\n",
        "print(\"Total number of columns:\", col_count)"
      ],
      "metadata": {
        "id": "Y-d8E2_X-8yr"
      },
      "execution_count": null,
      "outputs": []
    },
    {
      "cell_type": "markdown",
      "source": [
        "### Plots"
      ],
      "metadata": {
        "id": "sIYU1kY1AMD_"
      }
    },
    {
      "cell_type": "code",
      "source": [
        "# Extract month-year from CRASH_DATE\n",
        "Collisions_df = Collisions_df.withColumn(\"MonthYear\", F.date_format(F.to_date(\"CRASH_DATE\", \"MM/dd/yyyy\"), \"yyyy-MM\"))\n",
        "\n",
        "# Group the data by month-year and count the crashes from vehicles\n",
        "crashes_over_time = Collisions_df.groupBy(\"MonthYear\").count().orderBy(\"MonthYear\")\n",
        "\n",
        "# Convert the data to a Pandas DataFrame\n",
        "crashes_over_time_df = crashes_over_time.toPandas()\n",
        "\n",
        "# Plotting the distribution of crashes over time using plotly\n",
        "fig = px.line(crashes_over_time_df, x='MonthYear', y='count', title='Distribution of Crashes from Vehicles Over Time')\n",
        "fig.update_xaxes(title_text='Month-Year')\n",
        "fig.update_yaxes(title_text='Number of Crashes')\n",
        "fig.show()"
      ],
      "metadata": {
        "id": "4zvAANi6RYUE"
      },
      "execution_count": null,
      "outputs": []
    },
    {
      "cell_type": "code",
      "source": [
        "# Extract hour from CRASH_TIME\n",
        "Collisions_df = Collisions_df.withColumn(\"Hour\", F.hour(\"CRASH_TIME\"))\n",
        "\n",
        "# Group the data by hour and count the crashes\n",
        "crashes_by_hour = Collisions_df.groupBy(\"Hour\").count().orderBy(\"Hour\")\n",
        "\n",
        "# Convert the data to a Pandas DataFrame\n",
        "crashes_by_hour_df = crashes_by_hour.toPandas()\n",
        "\n",
        "# Plotting the distribution of crashes by hour using plotly\n",
        "fig = px.bar(crashes_by_hour_df, x='Hour', y='count', title='Distribution of Crashes by Hour')\n",
        "fig.update_xaxes(title_text='Hour of Day (24-hour format)')\n",
        "fig.update_yaxes(title_text='Number of Crashes')\n",
        "fig.show()"
      ],
      "metadata": {
        "id": "ubB1p2fYTnGt"
      },
      "execution_count": null,
      "outputs": []
    },
    {
      "cell_type": "code",
      "source": [
        "# Group the data by vehicle type and count the crashes\n",
        "crashes_by_vehicle_type = Collisions_df.groupBy(\"VEHICLE_TYPE\").count()\n",
        "\n",
        "# Get the top 5 vehicle types with the most crashes\n",
        "top_5_vehicle_types = crashes_by_vehicle_type.orderBy(F.desc(\"count\")).limit(5)\n",
        "\n",
        "# Convert the data to a Pandas DataFrame\n",
        "top_5_vehicle_types_df = top_5_vehicle_types.toPandas()\n",
        "\n",
        "# Plotting the distribution of crashes by top 5 vehicle types using plotly\n",
        "fig = px.bar(top_5_vehicle_types_df, x='VEHICLE_TYPE', y='count', title='Distribution of Crashes by Top 5 Vehicle Types')\n",
        "fig.update_xaxes(title_text='Vehicle Type')\n",
        "fig.update_yaxes(title_text='Number of Crashes')\n",
        "fig.show()"
      ],
      "metadata": {
        "id": "aWeVKejSUuN9"
      },
      "execution_count": null,
      "outputs": []
    },
    {
      "cell_type": "code",
      "source": [
        "# Replace null values in PRE_CRASH with a placeholder (e.g., \"Unknown\")\n",
        "Collisions_df = Collisions_df.fillna({'PRE_CRASH': 'Unknown'})\n",
        "\n",
        "# Group the data by PRE_CRASH and count the crashes\n",
        "crashes_by_pre_crash = Collisions_df.groupBy(\"PRE_CRASH\").count()\n",
        "\n",
        "# Get the top 5 pre-crash factors with the most crashes\n",
        "top_5_pre_crash = crashes_by_pre_crash.orderBy(F.desc(\"count\")).limit(5)\n",
        "\n",
        "# Convert the data to a Pandas DataFrame\n",
        "top_5_pre_crash_df = top_5_pre_crash.toPandas()\n",
        "\n",
        "# Plotting the distribution of crashes by top 5 pre-crash factors using plotly\n",
        "fig = px.bar(top_5_pre_crash_df, x='PRE_CRASH', y='count', title='Distribution of Crashes by Top 5 Pre-Crash Factors',\n",
        "             color='PRE_CRASH', color_discrete_sequence=px.colors.qualitative.Set1)\n",
        "fig.update_xaxes(title_text='Pre-Crash Factor')\n",
        "fig.update_yaxes(title_text='Number of Crashes')\n",
        "fig.show()"
      ],
      "metadata": {
        "id": "3mB7gDY0VYDD"
      },
      "execution_count": null,
      "outputs": []
    },
    {
      "cell_type": "code",
      "source": [
        "# Replace null values in POINT_OF_IMPACT with a placeholder (e.g., \"Unknown\")\n",
        "Collisions_df = Collisions_df.fillna({'POINT_OF_IMPACT': 'Unknown'})\n",
        "\n",
        "# Group the data by POINT_OF_IMPACT and count the crashes\n",
        "crashes_by_point_of_impact = Collisions_df.groupBy(\"POINT_OF_IMPACT\").count()\n",
        "\n",
        "# Get the top 5 point of impact factors with the most crashes\n",
        "top_5_point_of_impact = crashes_by_point_of_impact.orderBy(F.desc(\"count\")).limit(5)\n",
        "\n",
        "# Convert the data to a Pandas DataFrame\n",
        "top_5_point_of_impact_df = top_5_point_of_impact.toPandas()\n",
        "\n",
        "# Plotting the distribution of crashes by top 5 point of impact factors using plotly\n",
        "fig = px.bar(top_5_point_of_impact_df, x='POINT_OF_IMPACT', y='count', title='Distribution of Crashes by Top 5 Point of Impact Factors',\n",
        "             color='POINT_OF_IMPACT', color_discrete_sequence=px.colors.qualitative.Set1)\n",
        "fig.update_xaxes(title_text='Point of Impact Factor')\n",
        "fig.update_yaxes(title_text='Number of Crashes')\n",
        "fig.show()"
      ],
      "metadata": {
        "id": "LqZDVQeaVhvX"
      },
      "execution_count": null,
      "outputs": []
    },
    {
      "cell_type": "markdown",
      "source": [
        "## Education"
      ],
      "metadata": {
        "id": "Bv4PSxDz09DA"
      }
    },
    {
      "cell_type": "markdown",
      "source": [
        "New York City Department of Education 2016 - 2017 Health Education Report.\n",
        "Local Law 14 (2016) requires that the NYCDOE provide citywide Health Education data, disaggregated by community school district, city council district, and each individual school. Data reported in this report is from the 2016-17 school year.\n",
        "This report provides information about the number and percent of students scheduled for at least one semester of health education as defined in Local Law 14 as reported through the STARS database."
      ],
      "metadata": {
        "id": "h1wo01wNAYRc"
      }
    },
    {
      "cell_type": "markdown",
      "source": [
        "### Overview"
      ],
      "metadata": {
        "id": "V-ekX7iAAiNq"
      }
    },
    {
      "cell_type": "code",
      "source": [
        "# Df\n",
        "Education_df.show()"
      ],
      "metadata": {
        "id": "Eg7t2vNX_Ed-"
      },
      "execution_count": null,
      "outputs": []
    },
    {
      "cell_type": "code",
      "source": [
        "# Show the schema\n",
        "Education_df.printSchema()"
      ],
      "metadata": {
        "id": "P68PeP-a_F_6"
      },
      "execution_count": null,
      "outputs": []
    },
    {
      "cell_type": "code",
      "source": [
        "# Display summary statistics\n",
        "Education_df.describe().show()"
      ],
      "metadata": {
        "id": "5Lv1Lmxi_HQn"
      },
      "execution_count": null,
      "outputs": []
    },
    {
      "cell_type": "code",
      "source": [
        "# Count the number of rows in the DataFrame\n",
        "row_count = Education_df.count()\n",
        "print(\"Total number of rows:\", row_count)\n",
        "\n",
        "# Show the number of columns\n",
        "col_count = len(Education_df.columns)\n",
        "print(\"Total number of columns:\", col_count)"
      ],
      "metadata": {
        "id": "7mUKqt9G-9ut"
      },
      "execution_count": null,
      "outputs": []
    },
    {
      "cell_type": "markdown",
      "source": [
        "### Others"
      ],
      "metadata": {
        "id": "q3cf3BusArxV"
      }
    },
    {
      "cell_type": "code",
      "source": [
        "Education_df_q_2 = Education_df.agg(((F.sum(\"# of 16-17 June and August graduates\") - F.sum(\"# of 16-17 June and August graduates meeting high school health requirements\")) / F.sum(\"# of 16-17 June and August graduates\") * 100).alias(\"Percentage of graduates not meeting health requirements\"))\n",
        "Education_df_q_2.show()"
      ],
      "metadata": {
        "id": "LsPPKAQBYX7D",
        "colab": {
          "base_uri": "https://localhost:8080/"
        },
        "outputId": "bfd74727-5309-4ea9-8396-95e875aad9a0"
      },
      "execution_count": 13,
      "outputs": [
        {
          "output_type": "stream",
          "name": "stdout",
          "text": [
            "+-------------------------------------------------------+\n",
            "|Percentage of graduates not meeting health requirements|\n",
            "+-------------------------------------------------------+\n",
            "|                                     0.4212109815720196|\n",
            "+-------------------------------------------------------+\n",
            "\n"
          ]
        }
      ]
    },
    {
      "cell_type": "code",
      "source": [
        "Education_df_q_2 = Education_df.agg(((F.sum(\"# of students in grades 9-12\") - F.sum(\"# of students in grades 9-12 scheduled for at least one semester of health instruction\")) / F.sum(\"# of students in grades 9-12\") * 100).alias(\"Percentage of students 9-12 scheduled for health instruction semester\"))\n",
        "Education_df_q_2.show()\n",
        "\n",
        "Education_df_q_2 = Education_df_q_2.agg(F.sum(\"Percentage of students 9-12 scheduled for health instruction semester\"), (100 - F.sum(\"Percentage of students 9-12 scheduled for health instruction semester\")))\n",
        "Education_df_q_2.show()"
      ],
      "metadata": {
        "colab": {
          "base_uri": "https://localhost:8080/"
        },
        "id": "dzf2nS0lgcGa",
        "outputId": "bb1c1624-fab8-4bf7-dd88-76b61124c778"
      },
      "execution_count": 14,
      "outputs": [
        {
          "output_type": "stream",
          "name": "stdout",
          "text": [
            "+---------------------------------------------------------------------+\n",
            "|Percentage of students 9-12 scheduled for health instruction semester|\n",
            "+---------------------------------------------------------------------+\n",
            "|                                                    58.61163188007028|\n",
            "+---------------------------------------------------------------------+\n",
            "\n",
            "+--------------------------------------------------------------------------+----------------------------------------------------------------------------------+\n",
            "|sum(Percentage of students 9-12 scheduled for health instruction semester)|(100 - sum(Percentage of students 9-12 scheduled for health instruction semester))|\n",
            "+--------------------------------------------------------------------------+----------------------------------------------------------------------------------+\n",
            "|                                                         58.61163188007028|                                                                 41.38836811992972|\n",
            "+--------------------------------------------------------------------------+----------------------------------------------------------------------------------+\n",
            "\n"
          ]
        }
      ]
    },
    {
      "cell_type": "code",
      "source": [
        "d = {'Percentage': [58.61163188007028, 41.38836811992972], 'Instruction': [\"Instruction\", \"No instruction\"]}\n",
        "df = pd.DataFrame(data=d)\n",
        "df\n",
        "sns.barplot(x='Instruction', y='Percentage', data=df, palette=\"colorblind\")\n",
        "plt.xlabel(\"\")\n",
        "plt.show()"
      ],
      "metadata": {
        "colab": {
          "base_uri": "https://localhost:8080/",
          "height": 517
        },
        "id": "4V5g_obLgn4o",
        "outputId": "e6210051-fef4-415c-c6ed-2f66fdee4e09"
      },
      "execution_count": 15,
      "outputs": [
        {
          "output_type": "stream",
          "name": "stderr",
          "text": [
            "<ipython-input-15-c3cc6d95e2f6>:4: FutureWarning: \n",
            "\n",
            "Passing `palette` without assigning `hue` is deprecated and will be removed in v0.14.0. Assign the `x` variable to `hue` and set `legend=False` for the same effect.\n",
            "\n",
            "  sns.barplot(x='Instruction', y='Percentage', data=df, palette=\"colorblind\")\n"
          ]
        },
        {
          "output_type": "display_data",
          "data": {
            "text/plain": [
              "<Figure size 640x480 with 1 Axes>"
            ],
            "image/png": "[encoded data removed]"
          },
          "metadata": {}
        }
      ]
    },
    {
      "cell_type": "markdown",
      "source": [
        "## Poverty"
      ],
      "metadata": {
        "id": "n7T3qDUt1AAE"
      }
    },
    {
      "cell_type": "markdown",
      "source": [
        "American Community Survey Public Use Micro Sample, augmented by NYC Opportunity."
      ],
      "metadata": {
        "id": "y91ufWAdArcB"
      }
    },
    {
      "cell_type": "markdown",
      "source": [
        "### Overview\n"
      ],
      "metadata": {
        "id": "GZJJ9NsSBH1f"
      }
    },
    {
      "cell_type": "code",
      "source": [
        "# Df\n",
        "Poverty_df.show()"
      ],
      "metadata": {
        "id": "SMFsXT4yAzmZ"
      },
      "execution_count": null,
      "outputs": []
    },
    {
      "cell_type": "code",
      "source": [
        "# Show the schema\n",
        "Poverty_df.printSchema()"
      ],
      "metadata": {
        "id": "3l8E020vAz9k"
      },
      "execution_count": null,
      "outputs": []
    },
    {
      "cell_type": "code",
      "source": [
        "# Display summary statistics\n",
        "Poverty_df.describe().show()"
      ],
      "metadata": {
        "id": "p0F44CucA1nk"
      },
      "execution_count": null,
      "outputs": []
    },
    {
      "cell_type": "code",
      "source": [
        "# Count the number of rows in the DataFrame\n",
        "row_count = Poverty_df.count()\n",
        "print(\"Total number of rows:\", row_count)\n",
        "\n",
        "# Show the number of columns\n",
        "col_count = len(Poverty_df.columns)\n",
        "print(\"Total number of columns:\", col_count)"
      ],
      "metadata": {
        "id": "mPFZonUGRPml"
      },
      "execution_count": null,
      "outputs": []
    },
    {
      "cell_type": "markdown",
      "source": [
        "## Plots"
      ],
      "metadata": {
        "id": "MuF9C0yzdqHm"
      }
    },
    {
      "cell_type": "code",
      "source": [
        "# Group population data by borough and count the number of households in each borough\n",
        "population_borough = Poverty_df.groupBy(\"Boro\").count()\n",
        "\n",
        "# Order the data by count in descending order\n",
        "population_borough = population_borough.orderBy(F.desc(\"count\"))\n",
        "\n",
        "# Limit the DataFrame to the top rows\n",
        "population_borough = population_borough.limit(5)\n",
        "\n",
        "# Convert the grouped data to a pandas DataFrame\n",
        "population_borough = population_borough.toPandas()\n",
        "\n",
        "# Replace numerical codes with borough names\n",
        "population_borough = population_borough.replace({'Boro': 1}, 'Bronx')\n",
        "population_borough = population_borough.replace({'Boro': 2}, 'Brooklyn')\n",
        "population_borough = population_borough.replace({'Boro': 3}, 'Manhattan')\n",
        "population_borough = population_borough.replace({'Boro': 4}, 'Queens')\n",
        "population_borough = population_borough.replace({'Boro': 5}, 'Staten Island')\n",
        "\n",
        "# Display the first 5 rows of the DataFrame\n",
        "population_borough.head(5)\n",
        "\n",
        "# Create a bar plot to visualize the number of households in each borough\n",
        "sns.barplot(x='Boro', y='count', data=population_borough, palette=\"colorblind\")\n",
        "plt.xlabel(\"Borough\")\n",
        "plt.ylabel(\"Number of Households\")\n",
        "plt.show()"
      ],
      "metadata": {
        "id": "-SXYkYmRdrWm",
        "colab": {
          "base_uri": "https://localhost:8080/",
          "height": 571
        },
        "outputId": "09d78489-85e2-4c16-c4e9-e72c1ab783ca"
      },
      "execution_count": 38,
      "outputs": [
        {
          "output_type": "stream",
          "name": "stderr",
          "text": [
            "<ipython-input-38-62aa475243d4>:24: FutureWarning:\n",
            "\n",
            "\n",
            "\n",
            "Passing `palette` without assigning `hue` is deprecated and will be removed in v0.14.0. Assign the `x` variable to `hue` and set `legend=False` for the same effect.\n",
            "\n",
            "\n"
          ]
        },
        {
          "output_type": "display_data",
          "data": {
            "text/plain": [
              "<Figure size 640x480 with 1 Axes>"
            ],
            "image/png": "[encoded data removed]"
          },
          "metadata": {}
        }
      ]
    },
    {
      "cell_type": "code",
      "source": [
        "# Group population data by borough and educational attainment level\n",
        "population_borough = Poverty_df.where(Poverty_df.AgeCateg > 1).groupBy(\"Boro\", \"EducAttain\").count()\n",
        "\n",
        "# Sort the data by count in descending order and educational attainment in ascending order\n",
        "population_borough = population_borough.orderBy(F.desc(\"count\"))\n",
        "population_borough = population_borough.orderBy(F.asc(\"EducAttain\"))\n",
        "\n",
        "# Convert the grouped data to a pandas DataFrame\n",
        "population_borough = population_borough.toPandas()\n",
        "\n",
        "# Replace numerical codes with borough names and educational attainment labels\n",
        "population_borough['Boro'] = population_borough['Boro'].replace({1: 'Bronx', 2: 'Brooklyn', 3: 'Manhattan', 4: 'Queens', 5: 'Staten Island'})\n",
        "population_borough['EducAttain'] = population_borough['EducAttain'].replace({1: 'Less than High School', 2: 'High School', 3: 'Some College', 4: \"Bachelor's Degree\"})\n",
        "\n",
        "# Create a bar plot to visualize population data by borough and educational attainment\n",
        "fig, ax = plt.subplots(figsize=(7, 2))\n",
        "sns.barplot(x='Boro', y='count', data=population_borough, palette=\"colorblind\", hue='EducAttain', ax=ax)\n",
        "plt.xlabel(\"Borough\")\n",
        "plt.ylabel(\"Number of Households\")\n",
        "ax.legend(bbox_to_anchor=(1, 1), title='Education Level')\n",
        "\n",
        "plt.show()"
      ],
      "metadata": {
        "id": "gFQVHj6aduHP",
        "colab": {
          "base_uri": "https://localhost:8080/",
          "height": 234
        },
        "outputId": "1dba7f6d-c5be-4ac9-b38f-a3f662537dfb"
      },
      "execution_count": 35,
      "outputs": [
        {
          "output_type": "display_data",
          "data": {
            "text/plain": [
              "<Figure size 700x200 with 1 Axes>"
            ],
            "image/png": "[encoded data removed]"
          },
          "metadata": {}
        }
      ]
    },
    {
      "cell_type": "code",
      "source": [
        "# Group population data by borough and poverty status\n",
        "population_borough = Poverty_df.groupBy(\"Boro\", \"NYCgov_Pov_Stat\").count()\n",
        "\n",
        "# Sort the data by count in descending order and poverty status in descending order\n",
        "population_borough = population_borough.orderBy(F.desc(\"count\"))\n",
        "population_borough = population_borough.orderBy(F.desc(\"NYCgov_Pov_Stat\"))\n",
        "\n",
        "# Convert the grouped data to a pandas DataFrame\n",
        "population_borough = population_borough.toPandas()\n",
        "\n",
        "# Replace numerical codes with borough names and poverty status labels\n",
        "population_borough['Boro'] = population_borough['Boro'].replace({1: 'Bronx', 2: 'Brooklyn', 3: 'Manhattan', 4: 'Queens', 5: 'Staten Island'})\n",
        "population_borough['NYCgov_Pov_Stat'] = population_borough['NYCgov_Pov_Stat'].replace({1: 'In Poverty', 2: 'Not in Poverty'})\n",
        "\n",
        "# Display the first 5 rows of the DataFrame\n",
        "population_borough.head(5)\n",
        "\n",
        "# Create a bar plot to visualize population data by borough and poverty status\n",
        "fig, ax = plt.subplots(figsize=(7, 2))\n",
        "sns.barplot(x='Boro', y='count', data=population_borough, palette=\"colorblind\", hue='NYCgov_Pov_Stat', ax=ax)\n",
        "plt.xlabel(\"Borough\")\n",
        "plt.ylabel(\"Number of Households\")\n",
        "ax.legend(bbox_to_anchor=(1, 1), title='Poverty Status')\n",
        "\n",
        "plt.show()"
      ],
      "metadata": {
        "id": "0qoQZ5y7dxzG",
        "colab": {
          "base_uri": "https://localhost:8080/",
          "height": 234
        },
        "outputId": "a5cc53c8-7e5c-4f03-94a5-c5f45050630e"
      },
      "execution_count": 36,
      "outputs": [
        {
          "output_type": "display_data",
          "data": {
            "text/plain": [
              "<Figure size 700x200 with 1 Axes>"
            ],
            "image/png": "[encoded data removed]"
          },
          "metadata": {}
        }
      ]
    },
    {
      "cell_type": "code",
      "source": [
        "# Select relevant columns from the dataset: borough, childcare establishments, and NYC government income\n",
        "population_borough = Poverty_df.select(\"Boro\", \"EST_Childcare\", \"NYCgov_Income\")\n",
        "\n",
        "# Convert the selected data to a pandas DataFrame\n",
        "population_borough = population_borough.toPandas()\n",
        "\n",
        "# Remove rows where childcare establishments are zero\n",
        "population_borough = population_borough[population_borough['EST_Childcare'] != 0]\n",
        "\n",
        "# Sample a fraction of the data (2%) for visualization\n",
        "population_borough = population_borough.sample(frac=0.02)\n",
        "\n",
        "# Replace numerical codes with borough names\n",
        "population_borough = population_borough.replace({'Boro': 1}, 'Bronx')\n",
        "population_borough = population_borough.replace({'Boro': 2}, 'Brooklyn')\n",
        "population_borough = population_borough.replace({'Boro': 3}, 'Manhattan')\n",
        "population_borough = population_borough.replace({'Boro': 4}, 'Queens')\n",
        "population_borough = population_borough.replace({'Boro': 5}, 'Staten Island')\n",
        "\n",
        "# Create a scatter plot to visualize the relationship between NYC government income and childcare establishments,\n",
        "# with each point colored by borough\n",
        "sns.scatterplot(x=\"NYCgov_Income\",\n",
        "                y=\"EST_Childcare\",\n",
        "                hue=\"Boro\",\n",
        "                data=population_borough)\n"
      ],
      "metadata": {
        "id": "mxph0mL7d0II",
        "colab": {
          "base_uri": "https://localhost:8080/",
          "height": 467
        },
        "outputId": "059587b6-cdb1-4229-e82c-22d112950dad"
      },
      "execution_count": 37,
      "outputs": [
        {
          "output_type": "execute_result",
          "data": {
            "text/plain": [
              "<Axes: xlabel='NYCgov_Income', ylabel='EST_Childcare'>"
            ]
          },
          "metadata": {},
          "execution_count": 37
        },
        {
          "output_type": "display_data",
          "data": {
            "text/plain": [
              "<Figure size 640x480 with 1 Axes>"
            ],
            "image/png": "[encoded data removed]"
          },
          "metadata": {}
        }
      ]
    },
    {
      "cell_type": "markdown",
      "source": [
        "# **Quality**"
      ],
      "metadata": {
        "id": "UBbYCQnu1CGM"
      }
    },
    {
      "cell_type": "markdown",
      "source": [
        "## Arrests"
      ],
      "metadata": {
        "id": "9obM1JilDEkE"
      }
    },
    {
      "cell_type": "code",
      "source": [
        "# Count total missing values\n",
        "total_missing = Arrest_df.select([count(when(isnan(c) | col(c).isNull(), c)).alias(c) for c in Arrest_df.columns]).show()"
      ],
      "metadata": {
        "id": "2wwC1asoBShB"
      },
      "execution_count": null,
      "outputs": []
    },
    {
      "cell_type": "markdown",
      "source": [
        "## Collisions"
      ],
      "metadata": {
        "id": "tkNRL-2GDt-V"
      }
    },
    {
      "cell_type": "code",
      "source": [
        "# Omitting CRASH_TIME column from the list of columns\n",
        "columns_to_check = [c for c in Collisions_df.columns if c != \"CRASH_TIME\"]\n",
        "\n",
        "# Count total missing values in the DataFrame excluding CRASH_TIME\n",
        "total_missing = Collisions_df.select([count(when(isnan(c) | col(c).isNull(), c)).alias(c) for c in columns_to_check]).show()"
      ],
      "metadata": {
        "id": "BvVNxghDFd7H"
      },
      "execution_count": null,
      "outputs": []
    },
    {
      "cell_type": "markdown",
      "source": [
        "## Education"
      ],
      "metadata": {
        "id": "_9CslxEnEs5o"
      }
    },
    {
      "cell_type": "code",
      "source": [
        "# Count total missing values\n",
        "total_missing = Education_df.select([count(when(isnan(c) | col(c).isNull(), c)).alias(c) for c in Education_df.columns]).show()"
      ],
      "metadata": {
        "id": "GOtNzt4YEMkW"
      },
      "execution_count": null,
      "outputs": []
    },
    {
      "cell_type": "markdown",
      "source": [
        "## Poverty"
      ],
      "metadata": {
        "id": "TWaTPlAIE08u"
      }
    },
    {
      "cell_type": "code",
      "source": [
        "# Count total missing values\n",
        "total_missing = Poverty_df.select([count(when(isnan(c) | col(c).isNull(), c)).alias(c) for c in Poverty_df.columns]).show()"
      ],
      "metadata": {
        "id": "Qdq9lEvGEM_a"
      },
      "execution_count": null,
      "outputs": []
    },
    {
      "cell_type": "markdown",
      "source": [
        "## Solutions to manage missing values"
      ],
      "metadata": {
        "id": "r-lQnGFnF0KO"
      }
    },
    {
      "cell_type": "markdown",
      "source": [
        "1. Drop rows with missing values\n",
        "2. Impute missing values with mean, median, or mode\n",
        "3. Impute missing values with a default value\n",
        "4. Convert missing values to a specific category (for categorical columns)"
      ],
      "metadata": {
        "id": "7P17bddrF0HZ"
      }
    },
    {
      "cell_type": "code",
      "source": [
        "\"\"\"\n",
        "\n",
        "# Example\n",
        "\n",
        "# 1. Drop rows with missing values\n",
        "df_cleaned = df.dropna()\n",
        "\n",
        "# 2. Impute missing values with mean, median, or mode\n",
        "# For numeric columns\n",
        "numeric_cols = [c for c, t in df.dtypes if t in ['int', 'double']]\n",
        "for col_name in numeric_cols:\n",
        "    mean_value = df_cleaned.select(col_name).agg({col_name: \"mean\"}).collect()[0][0]\n",
        "    df = df.withColumn(col_name, when(col(col_name).isNull(), mean_value).otherwise(col(col_name)))\n",
        "\n",
        "# 3. Impute missing values with a default value\n",
        "# For categorical columns\n",
        "categorical_cols = [c for c, t in df.dtypes if t == 'string']\n",
        "for col_name in categorical_cols:\n",
        "    default_value = \"Unknown\"\n",
        "    df = df.fillna({col_name: default_value})\n",
        "\n",
        "# 4. Convert missing values to a specific category (for categorical columns)\n",
        "# For example, if you have a categorical column \"gender\" with missing values, you could convert them to \"Other\"\n",
        "df = df.fillna({'gender': 'Other'})\n",
        "\n",
        "\"\"\""
      ],
      "metadata": {
        "id": "HjOTyYI7GiV9"
      },
      "execution_count": null,
      "outputs": []
    },
    {
      "cell_type": "markdown",
      "source": [
        "# **Filters, cleaning and transformation**"
      ],
      "metadata": {
        "id": "ZuNocPtPBnOx"
      }
    },
    {
      "cell_type": "markdown",
      "source": [
        "## Arrest"
      ],
      "metadata": {
        "id": "smiK1dglG7FP"
      }
    },
    {
      "cell_type": "code",
      "source": [
        "# Potentially relevant categories\n",
        "\n",
        "important_columns = [\"ARREST_DATE\", \"PD_CD\", \"KY_CD\", \"OFNS_DESC\", \"LAW_CAT_CD\", \"ARREST_BORO\", \"AGE_GROUP\", \"ARREST_PRECINCT\", \"JURISDICTION_CODE\", \"AGE_GROUP\", \"PERP_SEX\", \"PERP_RACE\"]\n",
        "Arrest_df = Arrest_df.select(important_columns)\n",
        "\n",
        "#Drop null values\n",
        "Arrest_df = Arrest_df.dropna()\n",
        "\n",
        "#Transform the date column to date type\n",
        "Arrest_df = Arrest_df.withColumn(\"ARREST_DATE\", to_date(\"ARREST_DATE\", \"MM/dd/yyyy\"))\n",
        "\n",
        "#Data transformation for the age group column\n",
        "Arrest_df = Arrest_df.withColumn(\"AGE_GROUP\", F.when(F.col(\"AGE_GROUP\") == \"65+\", \"65-100\").otherwise(F.col(\"AGE_GROUP\")))\n",
        "\n",
        "#Show the data\n",
        "Arrest_df.show()\n"
      ],
      "metadata": {
        "id": "JyJbqhZPHWA-"
      },
      "execution_count": null,
      "outputs": []
    },
    {
      "cell_type": "markdown",
      "source": [
        "## Collisions"
      ],
      "metadata": {
        "id": "pIfdyUqeJq-P"
      }
    },
    {
      "cell_type": "code",
      "source": [
        "important_collumns = [\"CRASH_DATE\", \"STATE_REGISTRATION\", \"VEHICLE_TYPE\", \"VEHICLE_MODEL\", \"VEHICLE_YEAR\", \"TRAVEL_DIRECTION\", \"VEHICLE_OCCUPANTS\", \"DRIVER_SEX\", \"DRIVER_LICENSE_STATUS\", \"PRE_CRASH\", \"POINT_OF_IMPACT\", \"VEHICLE_DAMAGE\", \"PUBLIC_PROPERTY_DAMAGE\", \"CONTRIBUTING_FACTOR_1\", \"CONTRIBUTING_FACTOR_2\"]\n",
        "\n",
        "Collisions_df = Collisions_df.select(important_collumns)\n",
        "\n",
        "#Verify null values\n",
        "Collisions_df.select([F.count(F.when(F.isnull(c), c)).alias(c) for c in Collisions_df.columns]).show()\n",
        "\n",
        "#Drop null values of driver sex\n",
        "Collisions_df = Collisions_df.na.drop(subset=[\"DRIVER_SEX\"])\n",
        "\n",
        "#Drop null values of driver license status\n",
        "Collisions_df = Collisions_df.na.drop(subset=[\"DRIVER_LICENSE_STATUS\"])\n",
        "\n",
        "#Drop null values of State Registration\n",
        "Collisions_df = Collisions_df.na.drop(subset=[\"STATE_REGISTRATION\"])\n",
        "\n",
        "#Drop null values of Vehicle Type\n",
        "Collisions_df = Collisions_df.na.drop(subset=[\"VEHICLE_TYPE\"])\n",
        "\n",
        "#Transform the vehicle null values to unknown\n",
        "Collisions_df = Collisions_df.na.fill(\"UNKNOWN\", subset=[\"VEHICLE_MODEL\"])\n",
        "\n",
        "#Transform the vehicle year null values to unknown\n",
        "Collisions_df = Collisions_df.na.fill(\"UNKNOWN\", subset=[\"VEHICLE_YEAR\"])\n",
        "\n",
        "#Drop null values of Travel Direction\n",
        "Collisions_df = Collisions_df.na.drop(subset=[\"TRAVEL_DIRECTION\"])\n",
        "\n",
        "#Transform the vehicle occupants null values to 1\n",
        "Collisions_df = Collisions_df.na.fill(1, subset=[\"VEHICLE_OCCUPANTS\"])\n",
        "\n",
        "#Transform the pre crash null values to unknown\n",
        "Collisions_df = Collisions_df.na.fill(\"UNKNOWN\", subset=[\"PRE_CRASH\"])\n",
        "\n",
        "#Drop null values of Point of Impact\n",
        "Collisions_df = Collisions_df.na.drop(subset=[\"POINT_OF_IMPACT\"])\n",
        "\n",
        "#Drop null values of Vehicle Damage\n",
        "Collisions_df = Collisions_df.na.drop(subset=[\"VEHICLE_DAMAGE\"])\n",
        "\n",
        "#Drop null values of Public Property Damage\n",
        "Collisions_df = Collisions_df.na.drop(subset=[\"PUBLIC_PROPERTY_DAMAGE\"])\n",
        "\n",
        "#Transform the contributing factor 1 null values to unknown\n",
        "Collisions_df = Collisions_df.na.fill(\"UNKNOWN\", subset=[\"CONTRIBUTING_FACTOR_1\"])\n",
        "\n",
        "#Transform the contributing factor 2 null values to unknown\n",
        "Collisions_df = Collisions_df.na.fill(\"UNKNOWN\", subset=[\"CONTRIBUTING_FACTOR_2\"])\n",
        "\n",
        "# Show the data\n",
        "Collisions_df.show()"
      ],
      "metadata": {
        "id": "dAJ5ICFNM84H"
      },
      "execution_count": null,
      "outputs": []
    },
    {
      "cell_type": "markdown",
      "source": [
        "## Education"
      ],
      "metadata": {
        "id": "t-vO05PyJsHG"
      }
    },
    {
      "cell_type": "code",
      "source": [
        "#Count null values\n",
        "Education_df.select([F.count(F.when(F.col(c).isNull(), c)).alias(c) for c in Education_df.columns]).show()\n",
        "\n",
        "# Show the data\n",
        "Education_df.show()"
      ],
      "metadata": {
        "id": "HEPyNHiLM9QT"
      },
      "execution_count": null,
      "outputs": []
    },
    {
      "cell_type": "markdown",
      "source": [
        "## Poverty"
      ],
      "metadata": {
        "id": "alent8BXJsDx"
      }
    },
    {
      "cell_type": "code",
      "source": [
        "# Filter the important columns\n",
        "important_columns = [\"AGEP\", \"CIT\", \"REL\", \"SCHL\", \"SEX\", \"ESR\", \"MSP\", \"ENG\", \"WKHP\", \"WKW\", \"DIS\", \"NP\", \"TEN\", \"AgeCateg\", \"Boro\", \"EST_Childcare\", \"EST_Housing\", \"EST_IncomeTax\", \"EST_PovGap\", \"Ethnicity\", \"FTPTWork\", \"MRGP_adj\", \"Off_Pov_Stat\", \"OI_adj\", \"WAGP_adj\", \"RETP_adj\", \"RNTP_adj\", \"EST_EITC\", \"CitizenStatus\"]\n",
        "\n",
        "Poverty_df = Poverty_df.select(important_columns)\n",
        "\n",
        "\n",
        "#Verify if null values are present\n",
        "Poverty_df.select([F.count(F.when(F.isnull(c), c)).alias(c) for c in Poverty_df.columns]).show()\n",
        "\n",
        "#Drop the columns that have ESR null values\n",
        "Poverty_df = Poverty_df.na.drop(subset=[\"ESR\"])\n",
        "\n",
        "#Transforming the SCHL null values to 0\n",
        "Poverty_df = Poverty_df.withColumn(\"SCHL\", F.when(F.col(\"SCHL\").isNull(), 0).otherwise(F.col(\"SCHL\")))\n",
        "\n",
        "#Transforming the WKW null values to the most common value\n",
        "Poverty_df = Poverty_df.withColumn(\"WKW\", F.when(F.col(\"WKW\").isNull(), 1).otherwise(F.col(\"WKW\")))\n",
        "\n",
        "#Get the most common value of the ENG column depending on the Ethnicity\n",
        "ethnicity_eng_lvl = Poverty_df.groupBy(\"Ethnicity\").agg(F.expr(\"percentile_approx(ENG, 0.5)\").alias(\"ENG_common\"))\n",
        "print(ethnicity_eng_lvl.show())\n",
        "\n",
        "#Transform the null values of the ENG column to the most common value\n",
        "Poverty_df = Poverty_df.join(ethnicity_eng_lvl, \"Ethnicity\")\n",
        "\n",
        "Poverty_df = Poverty_df.withColumn(\"ENG\", F.coalesce(\"ENG\", \"ENG_common\"))\n",
        "\n",
        "# Display the DataFrame with relevant columns\n",
        "Poverty_df.show()"
      ],
      "metadata": {
        "id": "BrHoWPclM947"
      },
      "execution_count": null,
      "outputs": []
    },
    {
      "cell_type": "markdown",
      "source": [
        "# **Bonus**"
      ],
      "metadata": {
        "id": "pC2ktuW_PH6s"
      }
    },
    {
      "cell_type": "markdown",
      "source": [
        "## Average Annual Population of NYC Neighborhood"
      ],
      "metadata": {
        "id": "LE-1rSwFPNpZ"
      }
    },
    {
      "cell_type": "code",
      "source": [
        "# URL of the web page\n",
        "url = \"https://www.health.ny.gov/statistics/cancer/registry/appendix/neighborhoodpop.htm\"\n",
        "\n",
        "# Send a GET request to the URL\n",
        "response = requests.get(url)\n",
        "\n",
        "# Parse the HTML content of the page\n",
        "soup = BeautifulSoup(response.text, 'html.parser')\n",
        "\n",
        "# Find the table with the specified class\n",
        "table = soup.find('table', {'class': 'light_table right'})\n",
        "\n",
        "# Extract the rows from the table\n",
        "rows = table.find_all('tr')\n",
        "\n",
        "# Extract data from each row\n",
        "data = []\n",
        "for row in rows:\n",
        "    cols = row.find_all(['th', 'td'])\n",
        "    cols = [col.text.strip() for col in cols]\n",
        "    data.append(cols)\n",
        "\n",
        "# Create a Spark DataFrame from the extracted data\n",
        "columns = data[0]  # Assuming the first row contains column headers\n",
        "data = data[1:]    # Remove the first row (headers) from the data\n",
        "\n",
        "# Convert to list of tuples format to create a Spark DataFrame\n",
        "data_tuples = [tuple(row) for row in data]\n",
        "\n",
        "# Create a Spark DataFrame\n",
        "Population_df = spark.createDataFrame(data_tuples, columns)\n",
        "\n",
        "# Show the DataFrame\n",
        "Population_df.show()"
      ],
      "metadata": {
        "id": "BZTbHxlVPNNT"
      },
      "execution_count": null,
      "outputs": []
    },
    {
      "cell_type": "code",
      "source": [
        "# Define borough ranges\n",
        "ranges = {\n",
        "    'Bronx': (0, 9),\n",
        "    'Kings (Brooklyn)': (10, 27),\n",
        "    'New York (Manhattan)': (28, 37),\n",
        "    'Queens': (38, 51),\n",
        "    'Richmond (Staten Island)': (52, 54)\n",
        "}\n",
        "\n",
        "# Create DataFrame with borough column\n",
        "borough_list = []\n",
        "for borough, (start, end) in ranges.items():\n",
        "    borough_list.extend([borough] * (end - start + 1))\n",
        "\n",
        "df = spark.createDataFrame([(borough,) for borough in borough_list], [\"Borough (ALL)\"])\n",
        "\n",
        "# Show DataFrame\n",
        "df.show()"
      ],
      "metadata": {
        "id": "GTrWsgRJz30k"
      },
      "execution_count": null,
      "outputs": []
    },
    {
      "cell_type": "code",
      "source": [
        "# Assuming 'df' is your DataFrame\n",
        "num_rows = Population_df.count()\n",
        "print(\"Number of rows in the DataFrame:\", num_rows)\n",
        "num_rows = df.count()\n",
        "print(\"Number of rows in the DataFrame:\", num_rows)"
      ],
      "metadata": {
        "id": "e_F5zDCL0PBR"
      },
      "execution_count": null,
      "outputs": []
    },
    {
      "cell_type": "code",
      "source": [
        "# Create a Spark session\n",
        "spark = SparkSession.builder.appName(\"Combine Columns\").getOrCreate()\n",
        "\n",
        "# Add a unique row index to each DataFrame\n",
        "df = df.withColumn(\"row_id\", monotonically_increasing_id())\n",
        "Population_df = Population_df.withColumn(\"row_id\", monotonically_increasing_id())\n",
        "\n",
        "# Combine the columns from both DataFrames based on the row index\n",
        "Population_df = df.join(Population_df, \"row_id\").drop(\"row_id\")\n",
        "\n",
        "# Show the combined DataFrame with columns from both DataFrames\n",
        "Population_df.show()"
      ],
      "metadata": {
        "id": "sG0ouz0P3pC-"
      },
      "execution_count": null,
      "outputs": []
    },
    {
      "cell_type": "code",
      "source": [
        "# Show the schema\n",
        "Population_df.printSchema()"
      ],
      "metadata": {
        "id": "OSVlryr0aLoX"
      },
      "execution_count": null,
      "outputs": []
    },
    {
      "cell_type": "code",
      "source": [
        "# Remove commas from the columns\n",
        "Population_df = Population_df.withColumn('Males', regexp_replace('Males', ',', ''))\n",
        "Population_df = Population_df.withColumn('Females', regexp_replace('Females', ',', ''))\n",
        "Population_df = Population_df.withColumn('Total Population', regexp_replace('Total Population', ',', ''))\n",
        "\n",
        "# Convert columns to integer type\n",
        "Population_df = Population_df.withColumn('Males', Population_df['Males'].cast('int'))\n",
        "Population_df = Population_df.withColumn('Females', Population_df['Females'].cast('int'))\n",
        "Population_df = Population_df.withColumn('Total Population', Population_df['Total Population'].cast('int'))"
      ],
      "metadata": {
        "id": "MXd0o5LsZ1KI"
      },
      "execution_count": null,
      "outputs": []
    },
    {
      "cell_type": "code",
      "source": [
        "# Plot the bar plot showing the total population for each borough\n",
        "plt.figure(figsize=(10, 6))\n",
        "plt.bar(Population_df.select('Borough (ALL)').toPandas()['Borough (ALL)'],\n",
        "        Population_df.select('Total Population').toPandas()['Total Population'],\n",
        "        color='skyblue')\n",
        "plt.xlabel('Borough')\n",
        "plt.ylabel('Total Population')\n",
        "plt.title('Total Population by Borough')\n",
        "plt.tight_layout()\n",
        "plt.show()"
      ],
      "metadata": {
        "id": "a5Dp_BBuZOW6"
      },
      "execution_count": null,
      "outputs": []
    },
    {
      "cell_type": "code",
      "source": [
        "# Plot 2: Pie chart showing the distribution of males and females across all boroughs\n",
        "plt.figure(figsize=(8, 8))\n",
        "labels = ['Males', 'Females']\n",
        "sizes = [Population_df.select('Males').toPandas()['Males'].astype(int).sum(),\n",
        "         Population_df.select('Females').toPandas()['Females'].astype(int).sum()]\n",
        "colors = ['lightcoral', 'lightskyblue']\n",
        "explode = (0.1, 0)  # explode 1st slice\n",
        "plt.pie(sizes, explode=explode, labels=labels, colors=colors, autopct='%1.1f%%', shadow=True, startangle=140)\n",
        "plt.title('Distribution of Males and Females')\n",
        "plt.axis('equal')  # Equal aspect ratio ensures that pie is drawn as a circle.\n",
        "plt.show()"
      ],
      "metadata": {
        "id": "KLJMea-eZP_S"
      },
      "execution_count": null,
      "outputs": []
    },
    {
      "cell_type": "markdown",
      "source": [
        "## Weather"
      ],
      "metadata": {
        "id": "6fHkU69i5P32"
      }
    },
    {
      "cell_type": "code",
      "source": [
        "%pip install pyowm"
      ],
      "metadata": {
        "colab": {
          "base_uri": "https://localhost:8080/"
        },
        "id": "BUjafYK7hTdz",
        "outputId": "bfa145ee-8d95-4a55-d4a5-e455ce156a82"
      },
      "execution_count": 31,
      "outputs": [
        {
          "output_type": "stream",
          "name": "stdout",
          "text": [
            "Requirement already satisfied: pyowm in /usr/local/lib/python3.10/dist-packages (3.3.0)\n",
            "Requirement already satisfied: requests<3,>=2.20.0 in /usr/local/lib/python3.10/dist-packages (from pyowm) (2.31.0)\n",
            "Requirement already satisfied: geojson<3,>=2.3.0 in /usr/local/lib/python3.10/dist-packages (from pyowm) (2.5.0)\n",
            "Requirement already satisfied: PySocks<2,>=1.7.1 in /usr/local/lib/python3.10/dist-packages (from pyowm) (1.7.1)\n",
            "Requirement already satisfied: charset-normalizer<4,>=2 in /usr/local/lib/python3.10/dist-packages (from requests<3,>=2.20.0->pyowm) (3.3.2)\n",
            "Requirement already satisfied: idna<4,>=2.5 in /usr/local/lib/python3.10/dist-packages (from requests<3,>=2.20.0->pyowm) (3.6)\n",
            "Requirement already satisfied: urllib3<3,>=1.21.1 in /usr/local/lib/python3.10/dist-packages (from requests<3,>=2.20.0->pyowm) (2.0.7)\n",
            "Requirement already satisfied: certifi>=2017.4.17 in /usr/local/lib/python3.10/dist-packages (from requests<3,>=2.20.0->pyowm) (2024.2.2)\n"
          ]
        }
      ]
    },
    {
      "cell_type": "code",
      "source": [
        "from pyowm import OWM\n",
        "from pyowm.utils import config\n",
        "from pyowm.utils import timestamps\n",
        "import pandas as pd\n",
        "from pyowm.owm import OWM"
      ],
      "metadata": {
        "id": "SB6jIi3hihzo"
      },
      "execution_count": 32,
      "outputs": []
    },
    {
      "cell_type": "code",
      "source": [
        "owm = OWM('f3be3746c4bf6ed6bcb1c925ea13320b')\n",
        "\n",
        "mgr = owm.weather_manager()\n",
        "\n",
        "\n",
        "# Function to retrieve weather data for a city\n",
        "def get_weather(city):\n",
        "    observation = mgr.weather_at_place(city)\n",
        "    w = observation.weather\n",
        "    return {\n",
        "        'City': city,\n",
        "        'Detailed Status': w.detailed_status,\n",
        "        'Wind Speed': w.wind()['speed'],\n",
        "        'Wind Direction': w.wind()['deg'],\n",
        "        'Humidity': w.humidity,\n",
        "        'Temperature': w.temperature('celsius')['temp'],\n",
        "        'Max Temperature': w.temperature('celsius')['temp_max'],\n",
        "        'Min Temperature': w.temperature('celsius')['temp_min'],\n",
        "        'Rain': w.rain,\n",
        "        'Heat Index': w.heat_index,\n",
        "        'Clouds': w.clouds\n",
        "    }\n",
        "\n",
        "# List of important cities in the United States\n",
        "important_cities_us = [\n",
        "    'New York,US', 'Los Angeles,US', 'Chicago,US', 'Houston,US', 'Phoenix,US',\n",
        "    'Philadelphia,US', 'San Antonio,US', 'San Diego,US', 'Dallas,US', 'San Jose,US',\n",
        "    'Austin,US', 'Jacksonville,US', 'San Francisco,US', 'Columbus,US', 'Fort Worth,US',\n",
        "    'Indianapolis,US', 'Charlotte,US', 'Seattle,US', 'Denver,US', 'Washington,US',\n",
        "    'Boston,US', 'El Paso,US', 'Nashville,US', 'Detroit,US', 'Oklahoma City,US',\n",
        "    'Portland,US', 'Las Vegas,US', 'Memphis,US', 'Louisville,US', 'Milwaukee,US'\n",
        "]\n",
        "\n",
        "# Retrieve weather data for each city\n",
        "weather_data = [get_weather(city) for city in important_cities_us]\n",
        "\n",
        "# Create DataFrame from the weather data\n",
        "df_weather = pd.DataFrame(weather_data)\n",
        "# Display the DataFrame\n",
        "df_weather.head()"
      ],
      "metadata": {
        "id": "9Orn8uPadT7o",
        "colab": {
          "base_uri": "https://localhost:8080/",
          "height": 206
        },
        "outputId": "f4628ee3-6966-4f2b-b474-62b351249291"
      },
      "execution_count": 33,
      "outputs": [
        {
          "output_type": "execute_result",
          "data": {
            "text/plain": [
              "             City Detailed Status  Wind Speed  Wind Direction  Humidity  \\\n",
              "0     New York,US       clear sky       13.38             320        22   \n",
              "1  Los Angeles,US       clear sky        7.72             240        59   \n",
              "2      Chicago,US      few clouds        4.02             195        35   \n",
              "3      Houston,US      few clouds        5.14               0        53   \n",
              "4      Phoenix,US       clear sky        2.24             255        22   \n",
              "\n",
              "   Temperature  Max Temperature  Min Temperature Rain Heat Index  Clouds  \n",
              "0        10.85            11.98             8.97   {}       None       0  \n",
              "1        17.71            21.01            14.69   {}       None       0  \n",
              "2        19.37            19.74            18.63   {}       None      18  \n",
              "3        22.17            24.47            19.95   {}       None      20  \n",
              "4        26.45            27.84            25.00   {}       None       1  "
            ],
            "text/html": [
              "\n",
              "  <div id=\"df-7fb5c2cc-bb14-4645-94a4-2050378b5e3d\" class=\"colab-df-container\">\n",
              "    <div>\n",
              "<style scoped>\n",
              "    .dataframe tbody tr th:only-of-type {\n",
              "        vertical-align: middle;\n",
              "    }\n",
              "\n",
              "    .dataframe tbody tr th {\n",
              "        vertical-align: top;\n",
              "    }\n",
              "\n",
              "    .dataframe thead th {\n",
              "        text-align: right;\n",
              "    }\n",
              "</style>\n",
              "<table border=\"1\" class=\"dataframe\">\n",
              "  <thead>\n",
              "    <tr style=\"text-align: right;\">\n",
              "      <th></th>\n",
              "      <th>City</th>\n",
              "      <th>Detailed Status</th>\n",
              "      <th>Wind Speed</th>\n",
              "      <th>Wind Direction</th>\n",
              "      <th>Humidity</th>\n",
              "      <th>Temperature</th>\n",
              "      <th>Max Temperature</th>\n",
              "      <th>Min Temperature</th>\n",
              "      <th>Rain</th>\n",
              "      <th>Heat Index</th>\n",
              "      <th>Clouds</th>\n",
              "    </tr>\n",
              "  </thead>\n",
              "  <tbody>\n",
              "    <tr>\n",
              "      <th>0</th>\n",
              "      <td>New York,US</td>\n",
              "      <td>clear sky</td>\n",
              "      <td>13.38</td>\n",
              "      <td>320</td>\n",
              "      <td>22</td>\n",
              "      <td>10.85</td>\n",
              "      <td>11.98</td>\n",
              "      <td>8.97</td>\n",
              "      <td>{}</td>\n",
              "      <td>None</td>\n",
              "      <td>0</td>\n",
              "    </tr>\n",
              "    <tr>\n",
              "      <th>1</th>\n",
              "      <td>Los Angeles,US</td>\n",
              "      <td>clear sky</td>\n",
              "      <td>7.72</td>\n",
              "      <td>240</td>\n",
              "      <td>59</td>\n",
              "      <td>17.71</td>\n",
              "      <td>21.01</td>\n",
              "      <td>14.69</td>\n",
              "      <td>{}</td>\n",
              "      <td>None</td>\n",
              "      <td>0</td>\n",
              "    </tr>\n",
              "    <tr>\n",
              "      <th>2</th>\n",
              "      <td>Chicago,US</td>\n",
              "      <td>few clouds</td>\n",
              "      <td>4.02</td>\n",
              "      <td>195</td>\n",
              "      <td>35</td>\n",
              "      <td>19.37</td>\n",
              "      <td>19.74</td>\n",
              "      <td>18.63</td>\n",
              "      <td>{}</td>\n",
              "      <td>None</td>\n",
              "      <td>18</td>\n",
              "    </tr>\n",
              "    <tr>\n",
              "      <th>3</th>\n",
              "      <td>Houston,US</td>\n",
              "      <td>few clouds</td>\n",
              "      <td>5.14</td>\n",
              "      <td>0</td>\n",
              "      <td>53</td>\n",
              "      <td>22.17</td>\n",
              "      <td>24.47</td>\n",
              "      <td>19.95</td>\n",
              "      <td>{}</td>\n",
              "      <td>None</td>\n",
              "      <td>20</td>\n",
              "    </tr>\n",
              "    <tr>\n",
              "      <th>4</th>\n",
              "      <td>Phoenix,US</td>\n",
              "      <td>clear sky</td>\n",
              "      <td>2.24</td>\n",
              "      <td>255</td>\n",
              "      <td>22</td>\n",
              "      <td>26.45</td>\n",
              "      <td>27.84</td>\n",
              "      <td>25.00</td>\n",
              "      <td>{}</td>\n",
              "      <td>None</td>\n",
              "      <td>1</td>\n",
              "    </tr>\n",
              "  </tbody>\n",
              "</table>\n",
              "</div>\n",
              "    <div class=\"colab-df-buttons\">\n",
              "\n",
              "  <div class=\"colab-df-container\">\n",
              "    <button class=\"colab-df-convert\" onclick=\"convertToInteractive('df-7fb5c2cc-bb14-4645-94a4-2050378b5e3d')\"\n",
              "            title=\"Convert this dataframe to an interactive table.\"\n",
              "            style=\"display:none;\">\n",
              "\n",
              "  <svg xmlns=\"http://www.w3.org/2000/svg\" height=\"24px\" viewBox=\"0 -960 960 960\">\n",
              "    <path d=\"M120-120v-720h720v720H120Zm60-500h600v-160H180v160Zm220 220h160v-160H400v160Zm0 220h160v-160H400v160ZM180-400h160v-160H180v160Zm440 0h160v-160H620v160ZM180-180h160v-160H180v160Zm440 0h160v-160H620v160Z\"/>\n",
              "  </svg>\n",
              "    </button>\n",
              "\n",
              "  <style>\n",
              "    .colab-df-container {\n",
              "      display:flex;\n",
              "      gap: 12px;\n",
              "    }\n",
              "\n",
              "    .colab-df-convert {\n",
              "      background-color: #E8F0FE;\n",
              "      border: none;\n",
              "      border-radius: 50%;\n",
              "      cursor: pointer;\n",
              "      display: none;\n",
              "      fill: #1967D2;\n",
              "      height: 32px;\n",
              "      padding: 0 0 0 0;\n",
              "      width: 32px;\n",
              "    }\n",
              "\n",
              "    .colab-df-convert:hover {\n",
              "      background-color: #E2EBFA;\n",
              "      box-shadow: 0px 1px 2px rgba(60, 64, 67, 0.3), 0px 1px 3px 1px rgba(60, 64, 67, 0.15);\n",
              "      fill: #174EA6;\n",
              "    }\n",
              "\n",
              "    .colab-df-buttons div {\n",
              "      margin-bottom: 4px;\n",
              "    }\n",
              "\n",
              "    [theme=dark] .colab-df-convert {\n",
              "      background-color: #3B4455;\n",
              "      fill: #D2E3FC;\n",
              "    }\n",
              "\n",
              "    [theme=dark] .colab-df-convert:hover {\n",
              "      background-color: #434B5C;\n",
              "      box-shadow: 0px 1px 3px 1px rgba(0, 0, 0, 0.15);\n",
              "      filter: drop-shadow(0px 1px 2px rgba(0, 0, 0, 0.3));\n",
              "      fill: #FFFFFF;\n",
              "    }\n",
              "  </style>\n",
              "\n",
              "    <script>\n",
              "      const buttonEl =\n",
              "        document.querySelector('#df-7fb5c2cc-bb14-4645-94a4-2050378b5e3d button.colab-df-convert');\n",
              "      buttonEl.style.display =\n",
              "        google.colab.kernel.accessAllowed ? 'block' : 'none';\n",
              "\n",
              "      async function convertToInteractive(key) {\n",
              "        const element = document.querySelector('#df-7fb5c2cc-bb14-4645-94a4-2050378b5e3d');\n",
              "        const dataTable =\n",
              "          await google.colab.kernel.invokeFunction('convertToInteractive',\n",
              "                                                    [key], {});\n",
              "        if (!dataTable) return;\n",
              "\n",
              "        const docLinkHtml = 'Like what you see? Visit the ' +\n",
              "          '<a target=\"_blank\" href=https://colab.research.google.com/notebooks/data_table.ipynb>data table notebook</a>'\n",
              "          + ' to learn more about interactive tables.';\n",
              "        element.innerHTML = '';\n",
              "        dataTable['output_type'] = 'display_data';\n",
              "        await google.colab.output.renderOutput(dataTable, element);\n",
              "        const docLink = document.createElement('div');\n",
              "        docLink.innerHTML = docLinkHtml;\n",
              "        element.appendChild(docLink);\n",
              "      }\n",
              "    </script>\n",
              "  </div>\n",
              "\n",
              "\n",
              "<div id=\"df-dcc910ef-0926-471d-a42b-ac83407630b8\">\n",
              "  <button class=\"colab-df-quickchart\" onclick=\"quickchart('df-dcc910ef-0926-471d-a42b-ac83407630b8')\"\n",
              "            title=\"Suggest charts\"\n",
              "            style=\"display:none;\">\n",
              "\n",
              "<svg xmlns=\"http://www.w3.org/2000/svg\" height=\"24px\"viewBox=\"0 0 24 24\"\n",
              "     width=\"24px\">\n",
              "    <g>\n",
              "        <path d=\"M19 3H5c-1.1 0-2 .9-2 2v14c0 1.1.9 2 2 2h14c1.1 0 2-.9 2-2V5c0-1.1-.9-2-2-2zM9 17H7v-7h2v7zm4 0h-2V7h2v10zm4 0h-2v-4h2v4z\"/>\n",
              "    </g>\n",
              "</svg>\n",
              "  </button>\n",
              "\n",
              "<style>\n",
              "  .colab-df-quickchart {\n",
              "      --bg-color: #E8F0FE;\n",
              "      --fill-color: #1967D2;\n",
              "      --hover-bg-color: #E2EBFA;\n",
              "      --hover-fill-color: #174EA6;\n",
              "      --disabled-fill-color: #AAA;\n",
              "      --disabled-bg-color: #DDD;\n",
              "  }\n",
              "\n",
              "  [theme=dark] .colab-df-quickchart {\n",
              "      --bg-color: #3B4455;\n",
              "      --fill-color: #D2E3FC;\n",
              "      --hover-bg-color: #434B5C;\n",
              "      --hover-fill-color: #FFFFFF;\n",
              "      --disabled-bg-color: #3B4455;\n",
              "      --disabled-fill-color: #666;\n",
              "  }\n",
              "\n",
              "  .colab-df-quickchart {\n",
              "    background-color: var(--bg-color);\n",
              "    border: none;\n",
              "    border-radius: 50%;\n",
              "    cursor: pointer;\n",
              "    display: none;\n",
              "    fill: var(--fill-color);\n",
              "    height: 32px;\n",
              "    padding: 0;\n",
              "    width: 32px;\n",
              "  }\n",
              "\n",
              "  .colab-df-quickchart:hover {\n",
              "    background-color: var(--hover-bg-color);\n",
              "    box-shadow: 0 1px 2px rgba(60, 64, 67, 0.3), 0 1px 3px 1px rgba(60, 64, 67, 0.15);\n",
              "    fill: var(--button-hover-fill-color);\n",
              "  }\n",
              "\n",
              "  .colab-df-quickchart-complete:disabled,\n",
              "  .colab-df-quickchart-complete:disabled:hover {\n",
              "    background-color: var(--disabled-bg-color);\n",
              "    fill: var(--disabled-fill-color);\n",
              "    box-shadow: none;\n",
              "  }\n",
              "\n",
              "  .colab-df-spinner {\n",
              "    border: 2px solid var(--fill-color);\n",
              "    border-color: transparent;\n",
              "    border-bottom-color: var(--fill-color);\n",
              "    animation:\n",
              "      spin 1s steps(1) infinite;\n",
              "  }\n",
              "\n",
              "  @keyframes spin {\n",
              "    0% {\n",
              "      border-color: transparent;\n",
              "      border-bottom-color: var(--fill-color);\n",
              "      border-left-color: var(--fill-color);\n",
              "    }\n",
              "    20% {\n",
              "      border-color: transparent;\n",
              "      border-left-color: var(--fill-color);\n",
              "      border-top-color: var(--fill-color);\n",
              "    }\n",
              "    30% {\n",
              "      border-color: transparent;\n",
              "      border-left-color: var(--fill-color);\n",
              "      border-top-color: var(--fill-color);\n",
              "      border-right-color: var(--fill-color);\n",
              "    }\n",
              "    40% {\n",
              "      border-color: transparent;\n",
              "      border-right-color: var(--fill-color);\n",
              "      border-top-color: var(--fill-color);\n",
              "    }\n",
              "    60% {\n",
              "      border-color: transparent;\n",
              "      border-right-color: var(--fill-color);\n",
              "    }\n",
              "    80% {\n",
              "      border-color: transparent;\n",
              "      border-right-color: var(--fill-color);\n",
              "      border-bottom-color: var(--fill-color);\n",
              "    }\n",
              "    90% {\n",
              "      border-color: transparent;\n",
              "      border-bottom-color: var(--fill-color);\n",
              "    }\n",
              "  }\n",
              "</style>\n",
              "\n",
              "  <script>\n",
              "    async function quickchart(key) {\n",
              "      const quickchartButtonEl =\n",
              "        document.querySelector('#' + key + ' button');\n",
              "      quickchartButtonEl.disabled = true;  // To prevent multiple clicks.\n",
              "      quickchartButtonEl.classList.add('colab-df-spinner');\n",
              "      try {\n",
              "        const charts = await google.colab.kernel.invokeFunction(\n",
              "            'suggestCharts', [key], {});\n",
              "      } catch (error) {\n",
              "        console.error('Error during call to suggestCharts:', error);\n",
              "      }\n",
              "      quickchartButtonEl.classList.remove('colab-df-spinner');\n",
              "      quickchartButtonEl.classList.add('colab-df-quickchart-complete');\n",
              "    }\n",
              "    (() => {\n",
              "      let quickchartButtonEl =\n",
              "        document.querySelector('#df-dcc910ef-0926-471d-a42b-ac83407630b8 button');\n",
              "      quickchartButtonEl.style.display =\n",
              "        google.colab.kernel.accessAllowed ? 'block' : 'none';\n",
              "    })();\n",
              "  </script>\n",
              "</div>\n",
              "\n",
              "    </div>\n",
              "  </div>\n"
            ],
            "application/vnd.google.colaboratory.intrinsic+json": {
              "type": "dataframe",
              "variable_name": "df_weather",
              "repr_error": "Out of range float values are not JSON compliant: nan"
            }
          },
          "metadata": {},
          "execution_count": 33
        }
      ]
    },
    {
      "cell_type": "code",
      "source": [
        "# Create a custom color scale for temperature\n",
        "color_scale = [(1, 'rgb(255,0,0)'),  # Blue\n",
        "               (0, 'rgb(0,0,255)')]  # Red\n",
        "\n",
        "# Create a bar chart with custom color scale for maximum temperature\n",
        "fig = px.bar(df_weather.sort_values('Max Temperature', ascending=False),\n",
        "             x='City',\n",
        "             y='Max Temperature',\n",
        "             title='Maximum Temperature in Important US Cities',\n",
        "             labels={'City': 'City', 'Max Temperature': 'Max Temperature (°C)'},\n",
        "             color='Max Temperature',\n",
        "             color_continuous_scale=color_scale\n",
        "            )\n",
        "fig.update_xaxes(tickangle=45)\n",
        "fig.show()"
      ],
      "metadata": {
        "colab": {
          "base_uri": "https://localhost:8080/",
          "height": 542
        },
        "id": "L7XAhwYxhYln",
        "outputId": "084c2078-ce81-4664-f352-f4ce8e1c43d7"
      },
      "execution_count": 34,
      "outputs": [
        {
          "output_type": "display_data",
          "data": {
            "text/html": [
              "<html>\n",
              "<head><meta charset=\"utf-8\" /></head>\n",
              "<body>\n",
              "    <div>            <script src=\"https://cdnjs.cloudflare.com/ajax/libs/mathjax/2.7.5/MathJax.js?config=TeX-AMS-MML_SVG\"></script><script type=\"text/javascript\">if (window.MathJax && window.MathJax.Hub && window.MathJax.Hub.Config) {window.MathJax.Hub.Config({SVG: {font: \"STIX-Web\"}});}</script>                <script type=\"text/javascript\">window.PlotlyConfig = {MathJaxConfig: 'local'};</script>\n",
              "        <script charset=\"utf-8\" src=\"https://cdn.plot.ly/plotly-2.24.1.min.js\"></script>                <div id=\"59e439c7-4dab-4ff2-8296-32aeeff11f3c\" class=\"plotly-graph-div\" style=\"height:525px; width:100%;\"></div>            <script type=\"text/javascript\">                                    window.PLOTLYENV=window.PLOTLYENV || {};                                    if (document.getElementById(\"59e439c7-4dab-4ff2-8296-32aeeff11f3c\")) {                    Plotly.newPlot(                        \"59e439c7-4dab-4ff2-8296-32aeeff11f3c\",                        [{\"alignmentgroup\":\"True\",\"hovertemplate\":\"City=%{x}\\u003cbr\\u003eMax Temperature (\\u00b0C)=%{marker.color}\\u003cextra\\u003e\\u003c\\u002fextra\\u003e\",\"legendgroup\":\"\",\"marker\":{\"color\":[27.84,24.76,24.47,24.07,22.99,22.68,22.37,22.23,22.13,21.01,20.71,20.01,19.74,19.24,19.12,18.26,17.98,17.74,17.56,17.33,16.19,16.15,15.11,13.62,12.75,11.98,11.46,9.78,9.48,6.21],\"coloraxis\":\"coloraxis\",\"pattern\":{\"shape\":\"\"}},\"name\":\"\",\"offsetgroup\":\"\",\"orientation\":\"v\",\"showlegend\":false,\"textposition\":\"auto\",\"x\":[\"Phoenix,US\",\"Austin,US\",\"Houston,US\",\"San Antonio,US\",\"Dallas,US\",\"Fort Worth,US\",\"Las Vegas,US\",\"El Paso,US\",\"Oklahoma City,US\",\"Los Angeles,US\",\"San Diego,US\",\"Memphis,US\",\"Chicago,US\",\"Milwaukee,US\",\"Jacksonville,US\",\"Denver,US\",\"Charlotte,US\",\"San Jose,US\",\"San Francisco,US\",\"Nashville,US\",\"Indianapolis,US\",\"Louisville,US\",\"Detroit,US\",\"Columbus,US\",\"Philadelphia,US\",\"New York,US\",\"Seattle,US\",\"Portland,US\",\"Washington,US\",\"Boston,US\"],\"xaxis\":\"x\",\"y\":[27.84,24.76,24.47,24.07,22.99,22.68,22.37,22.23,22.13,21.01,20.71,20.01,19.74,19.24,19.12,18.26,17.98,17.74,17.56,17.33,16.19,16.15,15.11,13.62,12.75,11.98,11.46,9.78,9.48,6.21],\"yaxis\":\"y\",\"type\":\"bar\"}],                        {\"template\":{\"data\":{\"histogram2dcontour\":[{\"type\":\"histogram2dcontour\",\"colorbar\":{\"outlinewidth\":0,\"ticks\":\"\"},\"colorscale\":[[0.0,\"#0d0887\"],[0.1111111111111111,\"#46039f\"],[0.2222222222222222,\"#7201a8\"],[0.3333333333333333,\"#9c179e\"],[0.4444444444444444,\"#bd3786\"],[0.5555555555555556,\"#d8576b\"],[0.6666666666666666,\"#ed7953\"],[0.7777777777777778,\"#fb9f3a\"],[0.8888888888888888,\"#fdca26\"],[1.0,\"#f0f921\"]]}],\"choropleth\":[{\"type\":\"choropleth\",\"colorbar\":{\"outlinewidth\":0,\"ticks\":\"\"}}],\"histogram2d\":[{\"type\":\"histogram2d\",\"colorbar\":{\"outlinewidth\":0,\"ticks\":\"\"},\"colorscale\":[[0.0,\"#0d0887\"],[0.1111111111111111,\"#46039f\"],[0.2222222222222222,\"#7201a8\"],[0.3333333333333333,\"#9c179e\"],[0.4444444444444444,\"#bd3786\"],[0.5555555555555556,\"#d8576b\"],[0.6666666666666666,\"#ed7953\"],[0.7777777777777778,\"#fb9f3a\"],[0.8888888888888888,\"#fdca26\"],[1.0,\"#f0f921\"]]}],\"heatmap\":[{\"type\":\"heatmap\",\"colorbar\":{\"outlinewidth\":0,\"ticks\":\"\"},\"colorscale\":[[0.0,\"#0d0887\"],[0.1111111111111111,\"#46039f\"],[0.2222222222222222,\"#7201a8\"],[0.3333333333333333,\"#9c179e\"],[0.4444444444444444,\"#bd3786\"],[0.5555555555555556,\"#d8576b\"],[0.6666666666666666,\"#ed7953\"],[0.7777777777777778,\"#fb9f3a\"],[0.8888888888888888,\"#fdca26\"],[1.0,\"#f0f921\"]]}],\"heatmapgl\":[{\"type\":\"heatmapgl\",\"colorbar\":{\"outlinewidth\":0,\"ticks\":\"\"},\"colorscale\":[[0.0,\"#0d0887\"],[0.1111111111111111,\"#46039f\"],[0.2222222222222222,\"#7201a8\"],[0.3333333333333333,\"#9c179e\"],[0.4444444444444444,\"#bd3786\"],[0.5555555555555556,\"#d8576b\"],[0.6666666666666666,\"#ed7953\"],[0.7777777777777778,\"#fb9f3a\"],[0.8888888888888888,\"#fdca26\"],[1.0,\"#f0f921\"]]}],\"contourcarpet\":[{\"type\":\"contourcarpet\",\"colorbar\":{\"outlinewidth\":0,\"ticks\":\"\"}}],\"contour\":[{\"type\":\"contour\",\"colorbar\":{\"outlinewidth\":0,\"ticks\":\"\"},\"colorscale\":[[0.0,\"#0d0887\"],[0.1111111111111111,\"#46039f\"],[0.2222222222222222,\"#7201a8\"],[0.3333333333333333,\"#9c179e\"],[0.4444444444444444,\"#bd3786\"],[0.5555555555555556,\"#d8576b\"],[0.6666666666666666,\"#ed7953\"],[0.7777777777777778,\"#fb9f3a\"],[0.8888888888888888,\"#fdca26\"],[1.0,\"#f0f921\"]]}],\"surface\":[{\"type\":\"surface\",\"colorbar\":{\"outlinewidth\":0,\"ticks\":\"\"},\"colorscale\":[[0.0,\"#0d0887\"],[0.1111111111111111,\"#46039f\"],[0.2222222222222222,\"#7201a8\"],[0.3333333333333333,\"#9c179e\"],[0.4444444444444444,\"#bd3786\"],[0.5555555555555556,\"#d8576b\"],[0.6666666666666666,\"#ed7953\"],[0.7777777777777778,\"#fb9f3a\"],[0.8888888888888888,\"#fdca26\"],[1.0,\"#f0f921\"]]}],\"mesh3d\":[{\"type\":\"mesh3d\",\"colorbar\":{\"outlinewidth\":0,\"ticks\":\"\"}}],\"scatter\":[{\"fillpattern\":{\"fillmode\":\"overlay\",\"size\":10,\"solidity\":0.2},\"type\":\"scatter\"}],\"parcoords\":[{\"type\":\"parcoords\",\"line\":{\"colorbar\":{\"outlinewidth\":0,\"ticks\":\"\"}}}],\"scatterpolargl\":[{\"type\":\"scatterpolargl\",\"marker\":{\"colorbar\":{\"outlinewidth\":0,\"ticks\":\"\"}}}],\"bar\":[{\"error_x\":{\"color\":\"#2a3f5f\"},\"error_y\":{\"color\":\"#2a3f5f\"},\"marker\":{\"line\":{\"color\":\"#E5ECF6\",\"width\":0.5},\"pattern\":{\"fillmode\":\"overlay\",\"size\":10,\"solidity\":0.2}},\"type\":\"bar\"}],\"scattergeo\":[{\"type\":\"scattergeo\",\"marker\":{\"colorbar\":{\"outlinewidth\":0,\"ticks\":\"\"}}}],\"scatterpolar\":[{\"type\":\"scatterpolar\",\"marker\":{\"colorbar\":{\"outlinewidth\":0,\"ticks\":\"\"}}}],\"histogram\":[{\"marker\":{\"pattern\":{\"fillmode\":\"overlay\",\"size\":10,\"solidity\":0.2}},\"type\":\"histogram\"}],\"scattergl\":[{\"type\":\"scattergl\",\"marker\":{\"colorbar\":{\"outlinewidth\":0,\"ticks\":\"\"}}}],\"scatter3d\":[{\"type\":\"scatter3d\",\"line\":{\"colorbar\":{\"outlinewidth\":0,\"ticks\":\"\"}},\"marker\":{\"colorbar\":{\"outlinewidth\":0,\"ticks\":\"\"}}}],\"scattermapbox\":[{\"type\":\"scattermapbox\",\"marker\":{\"colorbar\":{\"outlinewidth\":0,\"ticks\":\"\"}}}],\"scatterternary\":[{\"type\":\"scatterternary\",\"marker\":{\"colorbar\":{\"outlinewidth\":0,\"ticks\":\"\"}}}],\"scattercarpet\":[{\"type\":\"scattercarpet\",\"marker\":{\"colorbar\":{\"outlinewidth\":0,\"ticks\":\"\"}}}],\"carpet\":[{\"aaxis\":{\"endlinecolor\":\"#2a3f5f\",\"gridcolor\":\"white\",\"linecolor\":\"white\",\"minorgridcolor\":\"white\",\"startlinecolor\":\"#2a3f5f\"},\"baxis\":{\"endlinecolor\":\"#2a3f5f\",\"gridcolor\":\"white\",\"linecolor\":\"white\",\"minorgridcolor\":\"white\",\"startlinecolor\":\"#2a3f5f\"},\"type\":\"carpet\"}],\"table\":[{\"cells\":{\"fill\":{\"color\":\"#EBF0F8\"},\"line\":{\"color\":\"white\"}},\"header\":{\"fill\":{\"color\":\"#C8D4E3\"},\"line\":{\"color\":\"white\"}},\"type\":\"table\"}],\"barpolar\":[{\"marker\":{\"line\":{\"color\":\"#E5ECF6\",\"width\":0.5},\"pattern\":{\"fillmode\":\"overlay\",\"size\":10,\"solidity\":0.2}},\"type\":\"barpolar\"}],\"pie\":[{\"automargin\":true,\"type\":\"pie\"}]},\"layout\":{\"autotypenumbers\":\"strict\",\"colorway\":[\"#636efa\",\"#EF553B\",\"#00cc96\",\"#ab63fa\",\"#FFA15A\",\"#19d3f3\",\"#FF6692\",\"#B6E880\",\"#FF97FF\",\"#FECB52\"],\"font\":{\"color\":\"#2a3f5f\"},\"hovermode\":\"closest\",\"hoverlabel\":{\"align\":\"left\"},\"paper_bgcolor\":\"white\",\"plot_bgcolor\":\"#E5ECF6\",\"polar\":{\"bgcolor\":\"#E5ECF6\",\"angularaxis\":{\"gridcolor\":\"white\",\"linecolor\":\"white\",\"ticks\":\"\"},\"radialaxis\":{\"gridcolor\":\"white\",\"linecolor\":\"white\",\"ticks\":\"\"}},\"ternary\":{\"bgcolor\":\"#E5ECF6\",\"aaxis\":{\"gridcolor\":\"white\",\"linecolor\":\"white\",\"ticks\":\"\"},\"baxis\":{\"gridcolor\":\"white\",\"linecolor\":\"white\",\"ticks\":\"\"},\"caxis\":{\"gridcolor\":\"white\",\"linecolor\":\"white\",\"ticks\":\"\"}},\"coloraxis\":{\"colorbar\":{\"outlinewidth\":0,\"ticks\":\"\"}},\"colorscale\":{\"sequential\":[[0.0,\"#0d0887\"],[0.1111111111111111,\"#46039f\"],[0.2222222222222222,\"#7201a8\"],[0.3333333333333333,\"#9c179e\"],[0.4444444444444444,\"#bd3786\"],[0.5555555555555556,\"#d8576b\"],[0.6666666666666666,\"#ed7953\"],[0.7777777777777778,\"#fb9f3a\"],[0.8888888888888888,\"#fdca26\"],[1.0,\"#f0f921\"]],\"sequentialminus\":[[0.0,\"#0d0887\"],[0.1111111111111111,\"#46039f\"],[0.2222222222222222,\"#7201a8\"],[0.3333333333333333,\"#9c179e\"],[0.4444444444444444,\"#bd3786\"],[0.5555555555555556,\"#d8576b\"],[0.6666666666666666,\"#ed7953\"],[0.7777777777777778,\"#fb9f3a\"],[0.8888888888888888,\"#fdca26\"],[1.0,\"#f0f921\"]],\"diverging\":[[0,\"#8e0152\"],[0.1,\"#c51b7d\"],[0.2,\"#de77ae\"],[0.3,\"#f1b6da\"],[0.4,\"#fde0ef\"],[0.5,\"#f7f7f7\"],[0.6,\"#e6f5d0\"],[0.7,\"#b8e186\"],[0.8,\"#7fbc41\"],[0.9,\"#4d9221\"],[1,\"#276419\"]]},\"xaxis\":{\"gridcolor\":\"white\",\"linecolor\":\"white\",\"ticks\":\"\",\"title\":{\"standoff\":15},\"zerolinecolor\":\"white\",\"automargin\":true,\"zerolinewidth\":2},\"yaxis\":{\"gridcolor\":\"white\",\"linecolor\":\"white\",\"ticks\":\"\",\"title\":{\"standoff\":15},\"zerolinecolor\":\"white\",\"automargin\":true,\"zerolinewidth\":2},\"scene\":{\"xaxis\":{\"backgroundcolor\":\"#E5ECF6\",\"gridcolor\":\"white\",\"linecolor\":\"white\",\"showbackground\":true,\"ticks\":\"\",\"zerolinecolor\":\"white\",\"gridwidth\":2},\"yaxis\":{\"backgroundcolor\":\"#E5ECF6\",\"gridcolor\":\"white\",\"linecolor\":\"white\",\"showbackground\":true,\"ticks\":\"\",\"zerolinecolor\":\"white\",\"gridwidth\":2},\"zaxis\":{\"backgroundcolor\":\"#E5ECF6\",\"gridcolor\":\"white\",\"linecolor\":\"white\",\"showbackground\":true,\"ticks\":\"\",\"zerolinecolor\":\"white\",\"gridwidth\":2}},\"shapedefaults\":{\"line\":{\"color\":\"#2a3f5f\"}},\"annotationdefaults\":{\"arrowcolor\":\"#2a3f5f\",\"arrowhead\":0,\"arrowwidth\":1},\"geo\":{\"bgcolor\":\"white\",\"landcolor\":\"#E5ECF6\",\"subunitcolor\":\"white\",\"showland\":true,\"showlakes\":true,\"lakecolor\":\"white\"},\"title\":{\"x\":0.05},\"mapbox\":{\"style\":\"light\"}}},\"xaxis\":{\"anchor\":\"y\",\"domain\":[0.0,1.0],\"title\":{\"text\":\"City\"},\"tickangle\":45},\"yaxis\":{\"anchor\":\"x\",\"domain\":[0.0,1.0],\"title\":{\"text\":\"Max Temperature (\\u00b0C)\"}},\"coloraxis\":{\"colorbar\":{\"title\":{\"text\":\"Max Temperature (\\u00b0C)\"}},\"colorscale\":[[1,\"rgb(255,0,0)\"],[0,\"rgb(0,0,255)\"]]},\"legend\":{\"tracegroupgap\":0},\"title\":{\"text\":\"Maximum Temperature in Important US Cities\"},\"barmode\":\"relative\"},                        {\"responsive\": true}                    ).then(function(){\n",
              "                            \n",
              "var gd = document.getElementById('59e439c7-4dab-4ff2-8296-32aeeff11f3c');\n",
              "var x = new MutationObserver(function (mutations, observer) {{\n",
              "        var display = window.getComputedStyle(gd).display;\n",
              "        if (!display || display === 'none') {{\n",
              "            console.log([gd, 'removed!']);\n",
              "            Plotly.purge(gd);\n",
              "            observer.disconnect();\n",
              "        }}\n",
              "}});\n",
              "\n",
              "// Listen for the removal of the full notebook cells\n",
              "var notebookContainer = gd.closest('#notebook-container');\n",
              "if (notebookContainer) {{\n",
              "    x.observe(notebookContainer, {childList: true});\n",
              "}}\n",
              "\n",
              "// Listen for the clearing of the current output cell\n",
              "var outputEl = gd.closest('.output');\n",
              "if (outputEl) {{\n",
              "    x.observe(outputEl, {childList: true});\n",
              "}}\n",
              "\n",
              "                        })                };                            </script>        </div>\n",
              "</body>\n",
              "</html>"
            ]
          },
          "metadata": {}
        }
      ]
    },
    {
      "cell_type": "code",
      "source": [
        "# Pie chart for weather conditions distribution across all cities\n",
        "weather_conditions_counts = df_weather['Detailed Status'].value_counts()\n",
        "plt.figure(figsize=(10, 10))\n",
        "plt.pie(weather_conditions_counts, labels=weather_conditions_counts.index, autopct='%1.1f%%', startangle=140)\n",
        "plt.title('Weather Conditions Distribution Across Cities')\n",
        "plt.show()"
      ],
      "metadata": {
        "colab": {
          "base_uri": "https://localhost:8080/",
          "height": 829
        },
        "id": "9mwKaWD0hhDX",
        "outputId": "89d53a77-c813-4b5a-862b-74ab9abf1254"
      },
      "execution_count": 23,
      "outputs": [
        {
          "output_type": "display_data",
          "data": {
            "text/plain": [
              "<Figure size 1000x1000 with 1 Axes>"
            ],
            "image/png": "[encoded data removed]"
          },
          "metadata": {}
        }
      ]
    }
  ]
}
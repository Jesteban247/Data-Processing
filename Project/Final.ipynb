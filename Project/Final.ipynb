{
 "cells": [
  {
   "cell_type": "markdown",
   "metadata": {},
   "source": [
    "# Part 1"
   ]
  },
  {
   "cell_type": "markdown",
   "metadata": {},
   "source": [
    "## Installing Spark"
   ]
  },
  {
   "cell_type": "code",
   "execution_count": 3,
   "metadata": {},
   "outputs": [
    {
     "name": "stdout",
     "output_type": "stream",
     "text": [
      "Hit:1 http://security.ubuntu.com/ubuntu focal-security InRelease\n",
      "Hit:2 https://packages.microsoft.com/repos/microsoft-ubuntu-focal-prod focal InRelease\n",
      "Hit:3 https://dl.yarnpkg.com/debian stable InRelease                           \u001b[0m\n",
      "Hit:4 http://archive.ubuntu.com/ubuntu focal InRelease                      \u001b[0m\u001b[33m\n",
      "Hit:5 https://repo.anaconda.com/pkgs/misc/debrepo/conda stable InRelease\n",
      "Get:6 http://archive.ubuntu.com/ubuntu focal-updates InRelease [114 kB]\n",
      "Hit:7 http://archive.ubuntu.com/ubuntu focal-backports InRelease               \u001b[0m\u001b[33m\u001b[33m\n",
      "Hit:8 https://packagecloud.io/github/git-lfs/ubuntu focal InRelease\n",
      "Fetched 114 kB in 1s (106 kB/s)                 \u001b[33m\n",
      "Reading package lists... Done\n",
      "Building dependency tree       \n",
      "Reading state information... Done\n",
      "42 packages can be upgraded. Run 'apt list --upgradable' to see them.\n",
      "E: Could not open lock file /var/lib/dpkg/lock-frontend - open (13: Permission denied)\n",
      "E: Unable to acquire the dpkg frontend lock (/var/lib/dpkg/lock-frontend), are you root?\n",
      "tar: spark-3.2.1-bin-hadoop3.2.tgz: Cannot open: No such file or directory\n",
      "tar: Error is not recoverable: exiting now\n",
      "\n",
      "\u001b[1m[\u001b[0m\u001b[34;49mnotice\u001b[0m\u001b[1;39;49m]\u001b[0m\u001b[39;49m A new release of pip is available: \u001b[0m\u001b[31;49m23.3.2\u001b[0m\u001b[39;49m -> \u001b[0m\u001b[32;49m24.0\u001b[0m\n",
      "\u001b[1m[\u001b[0m\u001b[34;49mnotice\u001b[0m\u001b[1;39;49m]\u001b[0m\u001b[39;49m To update, run: \u001b[0m\u001b[32;49mpython -m pip install --upgrade pip\u001b[0m\n",
      "Requirement already satisfied: pyspark in /usr/local/python/3.10.13/lib/python3.10/site-packages (3.5.0)\n",
      "Requirement already satisfied: py4j==0.10.9.7 in /usr/local/python/3.10.13/lib/python3.10/site-packages (from pyspark) (0.10.9.7)\n",
      "\n",
      "\u001b[1m[\u001b[0m\u001b[34;49mnotice\u001b[0m\u001b[1;39;49m]\u001b[0m\u001b[39;49m A new release of pip is available: \u001b[0m\u001b[31;49m23.3.2\u001b[0m\u001b[39;49m -> \u001b[0m\u001b[32;49m24.0\u001b[0m\n",
      "\u001b[1m[\u001b[0m\u001b[34;49mnotice\u001b[0m\u001b[1;39;49m]\u001b[0m\u001b[39;49m To update, run: \u001b[0m\u001b[32;49mpython -m pip install --upgrade pip\u001b[0m\n",
      "Requirement already satisfied: py4j in /usr/local/python/3.10.13/lib/python3.10/site-packages (0.10.9.7)\n",
      "\n",
      "\u001b[1m[\u001b[0m\u001b[34;49mnotice\u001b[0m\u001b[1;39;49m]\u001b[0m\u001b[39;49m A new release of pip is available: \u001b[0m\u001b[31;49m23.3.2\u001b[0m\u001b[39;49m -> \u001b[0m\u001b[32;49m24.0\u001b[0m\n",
      "\u001b[1m[\u001b[0m\u001b[34;49mnotice\u001b[0m\u001b[1;39;49m]\u001b[0m\u001b[39;49m To update, run: \u001b[0m\u001b[32;49mpython -m pip install --upgrade pip\u001b[0m\n"
     ]
    },
    {
     "name": "stderr",
     "output_type": "stream",
     "text": [
      "24/02/07 13:38:37 WARN Utils: Your hostname, codespaces-4f3c52 resolves to a loopback address: 127.0.0.1; using 172.16.5.4 instead (on interface eth0)\n",
      "24/02/07 13:38:37 WARN Utils: Set SPARK_LOCAL_IP if you need to bind to another address\n",
      "Setting default log level to \"WARN\".\n",
      "To adjust logging level use sc.setLogLevel(newLevel). For SparkR, use setLogLevel(newLevel).\n",
      "24/02/07 13:38:38 WARN NativeCodeLoader: Unable to load native-hadoop library for your platform... using builtin-java classes where applicable\n"
     ]
    },
    {
     "data": {
      "text/html": [
       "\n",
       "            <div>\n",
       "                <p><b>SparkSession - in-memory</b></p>\n",
       "                \n",
       "        <div>\n",
       "            <p><b>SparkContext</b></p>\n",
       "\n",
       "            <p><a href=\"http://cfc9d8ad-565b-4881-bda9-624175fc373d.internal.cloudapp.net:4040\">Spark UI</a></p>\n",
       "\n",
       "            <dl>\n",
       "              <dt>Version</dt>\n",
       "                <dd><code>v3.5.0</code></dd>\n",
       "              <dt>Master</dt>\n",
       "                <dd><code>local[*]</code></dd>\n",
       "              <dt>AppName</dt>\n",
       "                <dd><code>Example</code></dd>\n",
       "            </dl>\n",
       "        </div>\n",
       "        \n",
       "            </div>\n",
       "        "
      ],
      "text/plain": [
       "<pyspark.sql.session.SparkSession at 0x7fccfe7e14e0>"
      ]
     },
     "execution_count": 3,
     "metadata": {},
     "output_type": "execute_result"
    }
   ],
   "source": [
    "!sudo apt update\n",
    "!apt-get install openjdk-8-jdk-headless -qq > /dev/null\n",
    "!wget -q https://dlcdn.apache.org/spark/spark-3.2.1/spark-3.2.1-bin-hadoop3.2.tgz\n",
    "!tar xf spark-3.2.1-bin-hadoop3.2.tgz\n",
    "!pip install -q findspark\n",
    "!pip install pyspark\n",
    "!pip install py4j\n",
    "\n",
    "import os\n",
    "import findspark\n",
    "from pyspark.sql import SparkSession\n",
    "\n",
    "# Initialize findspark\n",
    "findspark.init()\n",
    "\n",
    "# Create SparkSession\n",
    "spark = SparkSession.builder \\\n",
    "                    .appName(\"Example\") \\\n",
    "                    .getOrCreate()\n",
    "\n",
    "spark"
   ]
  },
  {
   "cell_type": "markdown",
   "metadata": {},
   "source": [
    "## DF"
   ]
  },
  {
   "cell_type": "code",
   "execution_count": 1,
   "metadata": {},
   "outputs": [
    {
     "name": "stdout",
     "output_type": "stream",
     "text": [
      "Data downloaded successfully from https://data.cityofnewyork.us/resource/uip8-fykc.json and saved as /workspaces/Procesamiento-Datos/Project/Data/arrest.json\n",
      "Data downloaded successfully from https://data.cityofnewyork.us/resource/cts7-vksw.json and saved as /workspaces/Procesamiento-Datos/Project/Data/poverty.json\n",
      "Data downloaded successfully from https://data.cityofnewyork.us/resource/bm4k-52h4.json and saved as /workspaces/Procesamiento-Datos/Project/Data/collisions.json\n",
      "Data downloaded successfully from https://data.cityofnewyork.us/resource/2dzy-e7cu.json and saved as /workspaces/Procesamiento-Datos/Project/Data/education.json\n"
     ]
    }
   ],
   "source": [
    "import requests\n",
    "\n",
    "# List of URLs\n",
    "urls = {\n",
    "    \"Arrest\": \"https://data.cityofnewyork.us/resource/uip8-fykc.json\",\n",
    "    \"Poverty\": \"https://data.cityofnewyork.us/resource/cts7-vksw.json\",\n",
    "    \"Collisions\": \"https://data.cityofnewyork.us/resource/bm4k-52h4.json\",\n",
    "    \"Education\": \"https://data.cityofnewyork.us/resource/2dzy-e7cu.json\"\n",
    "}\n",
    "\n",
    "# Function to extract data from each URL\n",
    "def extract_data(url, filename):\n",
    "    response = requests.get(url)\n",
    "    if response.status_code == 200:\n",
    "        with open(filename, \"wb\") as file:\n",
    "            file.write(response.content)\n",
    "        print(f\"Data downloaded successfully from {url} and saved as {filename}\")\n",
    "    else:\n",
    "        print(f\"Failed to download data from {url}. Status code: {response.status_code}\")\n",
    "\n",
    "# Iterate over each URL and extract data\n",
    "for name, url in urls.items():\n",
    "    filename = f\"/workspaces/Procesamiento-Datos/Project/Data/{name.lower()}.json\"\n",
    "    extract_data(url, filename)\n",
    "\n"
   ]
  },
  {
   "cell_type": "code",
   "execution_count": 4,
   "metadata": {},
   "outputs": [],
   "source": [
    "# Read JSON data into a DataFrame\n",
    "Arrest_df= spark.read.json(\"/workspaces/Procesamiento-Datos/Project/Data/arrest.json\" , multiLine=True)\n",
    "Collisions_df= spark.read.json(\"/workspaces/Procesamiento-Datos/Project/Data/collisions.json\" , multiLine=True)\n",
    "Education_df= spark.read.json(\"/workspaces/Procesamiento-Datos/Project/Data/education.json\" , multiLine=True)\n",
    "Poverty_df= spark.read.json(\"/workspaces/Procesamiento-Datos/Project/Data/poverty.json\" , multiLine=True)"
   ]
  },
  {
   "cell_type": "code",
   "execution_count": 5,
   "metadata": {},
   "outputs": [
    {
     "name": "stderr",
     "output_type": "stream",
     "text": [
      "24/02/07 13:38:51 WARN SparkStringUtils: Truncated the string representation of a plan since it was too large. This behavior can be adjusted by setting 'spark.sql.debug.maxToStringFields'.\n"
     ]
    },
    {
     "name": "stdout",
     "output_type": "stream",
     "text": [
      "+--------+----+----+---+-------------+---+----------+----+----+-------------+-------------+--------+-----------+--------+-----------+-------------+---------+-------------+----------+---------------+---------+----------+--------+---+---------+----+----+---+---------+----+---+-------------+---------------+----------+----------------+------------+-------------+------+------+----------+-----------+---------------+-----+---+---------+---------+---+----+----+---------+--------+---+-------+--------+---------+---+---------------+---------+----+----+----+\n",
      "|agecateg|agep|boro|cit|citizenstatus|dis|educattain| eng| esr|est_childcare|est_commuting|est_eitc|est_ficatax|est_heap|est_housing|est_incometax| est_moop|est_nutrition|est_povgap|est_povgapindex|ethnicity|famtype_pu|ftptwork|hht| intp_adj|jwtr|lanx|mar| mrgp_adj| msp| np|nycgov_income|nycgov_pov_stat|nycgov_rel|nycgov_threshold|off_pov_stat|off_threshold|oi_adj|pa_adj|povunit_id|povunit_rel|pretaxincome_pu|pwgtp|rel| retp_adj| rntp_adj|sch|schg|schl| semp_adj|serialno|sex|sporder|ssip_adj|  ssp_adj|ten|totalworkhrs_pu| wagp_adj|wgtp|wkhp| wkw|\n",
      "+--------+----+----+---+-------------+---+----------+----+----+-------------+-------------+--------+-----------+--------+-----------+-------------+---------+-------------+----------+---------------+---------+----------+--------+---+---------+----+----+---+---------+----+---+-------------+---------------+----------+----------------+------------+-------------+------+------+----------+-----------+---------------+-----+---+---------+---------+---+----+----+---------+--------+---+-------+--------+---------+---+---------------+---------+----+----+----+\n",
      "|       2|  31|   2|  1|            1|  2|         4|NULL|   1|            0|         1722|       0|  9765.2422|       0|  1478.3278|    33580.543|   2642.8|            0|         0|              0|        4|         8|       1|  6|        0|  12|   2|  5|        0|   6|  1|    81417.961|              2|         0|         16241.6|           2|        13064|     0|     0|         1|          1|      127650.22|   95|  0|        0|        0|  1|   0|  22|        0|       1|  2|      1|       0|        0|  2|              2|127650.22|  95|  60|   1|\n",
      "|       2|  63|   3|  1|            1|  2|         4|NULL|   1|            0|    3840.8416|       0|  13950.346|       0|          0|    95503.234|4766.7998|            0|         0|              0|        1|         2|       1|  1| 101309.7|   1|   2|  1|2532.7424|   1|  2|    228417.95|              2|         0|       22900.654|           2|        16815|     0|     0|         1|          1|      346479.19|  181|  0|        0|        0|  1|   0|  22|        0|      16|  2|      1|       0|        0|  1|              2|182357.45| 181|  60|   1|\n",
      "|       3|  65|   3|  1|            1|  2|         3|NULL|   6|            0|    3840.8416|       0|  13950.346|       0|          0|    95503.234|4766.7998|            0|         0|              0|        1|         2|       3|  1|50654.852|NULL|   2|  1|2532.7424|   1|  2|    228417.95|              2|         1|       22900.654|           2|        16815|     0|     0|         1|          2|      346479.19|  210|  1|        0|        0|  1|   0|  19|        0|      16|  1|      2|       0|12157.164|  1|              2|        0| 181|   0|NULL|\n",
      "|       3|  68|   2|  4|            2|  2|         1|   2|   1|            0|            0|       0|  9765.2422|       0|  2612.8022|    27574.365|   3218.8|            0|         0|              0|        1|         2|       1|  1|        0|  10|   1|  1|        0|   1|  2|    117058.23|              2|         0|       22900.654|           2|        15178|     0|     0|         1|          1|      155003.84|   62|  0|        0|        0|  1|   0|   1|        0|      47|  1|      1|       0|27353.619|  2|              1|91178.727|  62|  40|   1|\n",
      "|       2|  63|   2|  4|            2|  2|         1|   1|   1|            0|            0|       0|  9765.2422|       0|  2612.8022|    27574.365|   3218.8|            0|         0|              0|        1|         2|       1|  1|        0|  10|   1|  1|        0|   1|  2|    117058.23|              2|         1|       22900.654|           2|        15178|     0|     0|         1|          2|      155003.84|   71|  1|        0|        0|  1|   0|   1|        0|      47|  2|      2|       0|        0|  2|              1|36471.492|  62|  40|   1|\n",
      "|       2|  29|   4|  5|            3|  2|         4|   3|   6|            0|    4954.1665|       0|  2915.3896|       0|          0|    1115.2131|        0|            0| 3214.7793|     0.14037937|        4|         2|       1|  1|        0|NULL|   1|  1|        0|   1|  3|    19685.875|              1|         0|       22900.654|           2|        16815|     0|     0|         1|          1|      28670.645|  430|  0|        0| 2026.194|  1|   0|  21|        0|      55|  2|      1|       0|        0|  3|              1|17526.578| 430|  40|   1|\n",
      "|       2|  25|   4|  5|            3|  2|         4|   1|   1|            0|    4954.1665|       0|  2915.3896|       0|          0|    1115.2131|        0|            0| 3214.7793|     0.14037937|        4|         2|       1|  1|        0|   1|   1|  1|        0|   1|  3|    19685.875|              1|         1|       22900.654|           2|        16815|     0|     0|         1|          2|      28670.645|  466|  1|        0| 2026.194|  1|   0|  21|11144.067|      55|  1|      2|       0|        0|  3|              1|        0| 430|  40|   1|\n",
      "|       2|  32|   4|  1|            1|  2|         2|   1|   1|            0|       6703.5|       0|  3875.0959|       0|          0|    8213.8594|  4176.96|            0|         0|              0|        4|         7|       1|  1|        0|   1|   1|  5|        0|   6|  3|    27685.434|              2|        12|         16241.6|           2|        13064|     0|     0|         2|          1|      50654.852|  453| 15|        0| 2026.194|  1|   0|  16|        0|      55|  1|      3|       0|        0|  3|              3|50654.852| 430|  40|   1|\n",
      "|       3|  76|   2|  4|            2|  2|         4|NULL|   6|            0|            0|       0|          0|       0|          0|    1558.6013|1378.6801|            0|         0|              0|        2|         8|       3|  4| 405.2388|NULL|   2|  2|        0|   3|  1|    40727.199|              2|         0|         16241.6|           2|        12043|     0|     0|         1|          1|       43664.48|  201|  0|23402.541|891.52533|  1|   0|  21|        0|     194|  1|      1|       0|19856.701|  3|              5|        0| 201|   0|NULL|\n",
      "|       2|  46|   2|  5|            3|  2|         2|   4|   1|            0|       1795.8|       0|  6122.6519|       0|          0|    11775.876|  9036.96|            0|         0|              0|        3|         2|       1|  1|        0|   4|   1|  1|        0|   1|  2|    51303.375|              2|         0|       22900.654|           2|        16815|     0|     0|         1|          1|      80034.664|   55|  0|        0|911.78729|  1|   0|  17|        0|     218|  2|      1|       0|        0|  3|              2|70916.789|  56|  35|   1|\n",
      "|       2|  49|   2|  5|            3|  2|         3|   2|   1|            0|       1795.8|       0|  6122.6519|       0|          0|    11775.876|  9036.96|            0|         0|              0|        3|         2|       2|  1|        0|   4|   1|  1|        0|   1|  2|    51303.375|              2|         1|       22900.654|           2|        16815|     0|     0|         1|          2|      80034.664|   60|  1|        0|911.78729|  1|   0|  20|        0|     218|  1|      2|       0|        0|  3|              2| 9117.873|  56|  40|   4|\n",
      "|       2|  61|   3|  4|            2|  2|         1|NULL|   1|            0|         1230|       0|  3100.0769|       0|          0|    15641.518|7836.7598|            0|         0|              0|        5|         2|       1|  1|        0|   4|   2|  1|        0|   1|  2|    84037.555|              2|         0|       22900.654|           2|        16815|     0|     0|         1|          1|      111845.91|  119|  0|        0|1215.7164|  1|   0|  13|        0|     398|  1|      1|       0|        0|  3|              3|40523.879| 119|  40|   1|\n",
      "|       3|  66|   3|  4|            2|  2|         2|NULL|   6|            0|         1230|       0|  3100.0769|       0|          0|    15641.518|7836.7598|            0|         0|              0|        2|         2|       3|  1|39004.234|NULL|   2|  1|        0|   1|  2|    84037.555|              2|         1|       22900.654|           2|        16815|     0|     0|         1|          2|      111845.91|  110|  1|13778.119|1215.7164|  1|   0|  17|        0|     398|  2|      2|       0|18539.676|  3|              3|        0| 119|   0|NULL|\n",
      "|       2|  49|   3|  1|            1|  2|         3|NULL|   1|            0|    3836.9167|       0|  7052.6748|       0|          0|    12011.638|     2036|            0|         0|              0|        2|         1|       1|  1|        0|   4|   2|  1| 202.6194|   1|  3|    67254.602|              2|         0|       30845.143|           2|        20212|     0|     0|         1|          1|      92191.828|   53|  0|        0|        0|  1|   0|  19|        0|     414|  2|      1|       0|        0|  1|              1|71929.891|  53|  40|   1|\n",
      "|       2|  49|   3|  4|            2|  1|         1|NULL|   1|            0|    3836.9167|       0|  7052.6748|       0|          0|    12011.638|     2036|            0|         0|              0|        2|         1|       1|  1|        0|   1|   2|  1| 202.6194|   1|  3|    67254.602|              2|         1|       30845.143|           2|        20212|     0|     0|         1|          2|      92191.828|  101|  1|        0|        0|  1|   0|   1|        0|     414|  1|      2|       0|        0|  1|              1|20261.939|  53|  40|   1|\n",
      "|       1|  14|   3|  1|            1|  2|         1|NULL|NULL|            0|    3836.9167|       0|  7052.6748|       0|          0|    12011.638|     2036|            0|         0|              0|        2|         1|       3|  1|        0|NULL|   2|  5| 202.6194|NULL|  3|    67254.602|              2|         2|       30845.143|           2|        20212|     0|     0|         1|          3|      92191.828|   85|  2|        0|        0|  1|   0|  10|        0|     414|  1|      3|       0|        0|  1|              1|        0|  53|   0|NULL|\n",
      "|       2|  35|   2|  5|            3|  2|         2|   1|   1|            0|         1230|3051.696|  2790.0691|       0|   1413.057|   -6760.1646|  2011.96|        612.5|         0|              0|        1|         1|       1|  1|        0|   4|   1|  1|        0|   1|  4|    39855.426|              2|         0|           35044|           2|        25465|     0|     0|         1|          1|      36471.492|   61|  0|        0| 1013.097|  3|  15|  17|        0|     463|  1|      1|       0|        0|  3|              3|36471.492|  61|  40|   1|\n",
      "|       2|  35|   2|  5|            3|  2|         3|   2|   6|            0|         1230|       0|  2790.0691|       0|   1413.057|   -6760.1646|  2011.96|        612.5|         0|              0|        1|         1|       3|  1|        0|NULL|   1|  1|        0|   1|  4|    39855.426|              2|         1|           35044|           2|        25465|     0|     0|         1|          2|      36471.492|   65|  1|        0| 1013.097|  1|   0|  19|        0|     463|  2|      2|       0|        0|  3|              3|        0|  61|   0|NULL|\n",
      "|       1|   9|   2|  1|            1|  2|         1|   1|NULL|            0|         1230|       0|  2790.0691|       0|   1413.057|   -6760.1646|  2011.96|        612.5|         0|              0|        1|         1|       3|  1|        0|NULL|   1|  5|        0|NULL|  4|    39855.426|              2|         2|           35044|           2|        25465|     0|     0|         1|          3|      36471.492|   63|  2|        0| 1013.097|  2|   7|   7|        0|     463|  1|      3|       0|        0|  3|              3|        0|  61|   0|NULL|\n",
      "|       1|   3|   2|  1|            1|  2|         1|NULL|NULL|            0|         1230|       0|  2790.0691|       0|   1413.057|   -6760.1646|  2011.96|        612.5|         0|              0|        1|         1|       3|  1|        0|NULL|NULL|  5|        0|NULL|  4|    39855.426|              2|         2|           35044|           2|        25465|     0|     0|         1|          3|      36471.492|   71|  2|        0| 1013.097|  2|   1|   1|        0|     463|  2|      4|       0|        0|  3|              3|        0|  61|   0|NULL|\n",
      "+--------+----+----+---+-------------+---+----------+----+----+-------------+-------------+--------+-----------+--------+-----------+-------------+---------+-------------+----------+---------------+---------+----------+--------+---+---------+----+----+---+---------+----+---+-------------+---------------+----------+----------------+------------+-------------+------+------+----------+-----------+---------------+-----+---+---------+---------+---+----+----+---------+--------+---+-------+--------+---------+---+---------------+---------+----+----+----+\n",
      "only showing top 20 rows\n",
      "\n"
     ]
    },
    {
     "name": "stderr",
     "output_type": "stream",
     "text": [
      "24/02/07 13:38:54 WARN GarbageCollectionMetrics: To enable non-built-in garbage collector(s) List(G1 Concurrent GC), users should configure it(them) to spark.eventLog.gcMetrics.youngGenerationGarbageCollectors or spark.eventLog.gcMetrics.oldGenerationGarbageCollectors\n"
     ]
    }
   ],
   "source": [
    "# Show the DataFrame\n",
    "Poverty_df.show()"
   ]
  },
  {
   "cell_type": "markdown",
   "metadata": {},
   "source": [
    "# Bonus"
   ]
  },
  {
   "cell_type": "markdown",
   "metadata": {},
   "source": [
    "## Web Scrapping"
   ]
  },
  {
   "cell_type": "code",
   "execution_count": 2,
   "metadata": {},
   "outputs": [
    {
     "name": "stdout",
     "output_type": "stream",
     "text": [
      "  Borough                                     region   Males Females  \\\n",
      "0   Bronx         Riverdale, Fieldston & Kingsbridge  52,133  61,937   \n",
      "1               Wakefield, Williamsbridge & Woodlawn  65,087  77,848   \n",
      "2             Co-op City, Pelham Bay & Schuylerville  55,615  65,929   \n",
      "3              Pelham Parkway, Morris Park & Laconia  61,233  67,896   \n",
      "4          Belmont, Crotona Park East & East Tremont  75,963  87,740   \n",
      "\n",
      "  Total Population  \n",
      "0          114,070  \n",
      "1          142,935  \n",
      "2          121,544  \n",
      "3          129,130  \n",
      "4          163,704  \n"
     ]
    }
   ],
   "source": [
    "import requests\n",
    "from bs4 import BeautifulSoup\n",
    "import pandas as pd\n",
    "\n",
    "# URL of the website\n",
    "url = \"https://www.health.ny.gov/statistics/cancer/registry/appendix/neighborhoodpop.htm\"\n",
    "\n",
    "# Send a GET request to the URL\n",
    "response = requests.get(url)\n",
    "\n",
    "# Parse the HTML content of the page\n",
    "soup = BeautifulSoup(response.text, 'html.parser')\n",
    "\n",
    "# Find the table with the specified class\n",
    "table = soup.find('table', {'class': 'light_table right'})\n",
    "\n",
    "# Extract the table rows\n",
    "rows = table.find_all('tr')\n",
    "\n",
    "# Extracting data from each row\n",
    "data = []\n",
    "for row in rows:\n",
    "    cols = row.find_all(['th', 'td'])\n",
    "    cols = [col.text.strip() for col in cols]\n",
    "    data.append(cols)\n",
    "\n",
    "# Create a DataFrame from the extracted data\n",
    "columns = data[0]  # Assuming the first row contains column headers\n",
    "df = pd.DataFrame(data[1:], columns=columns)\n",
    "\n",
    "# Display the head of the DataFrame\n",
    "print(df.head())\n"
   ]
  },
  {
   "cell_type": "markdown",
   "metadata": {},
   "source": [
    "## API"
   ]
  },
  {
   "cell_type": "code",
   "execution_count": 6,
   "metadata": {},
   "outputs": [
    {
     "name": "stdout",
     "output_type": "stream",
     "text": [
      "Requirement already satisfied: pyowm in /usr/local/python/3.10.13/lib/python3.10/site-packages (3.3.0)\n",
      "Requirement already satisfied: requests<3,>=2.20.0 in /home/codespace/.local/lib/python3.10/site-packages (from pyowm) (2.31.0)\n",
      "Requirement already satisfied: geojson<3,>=2.3.0 in /usr/local/python/3.10.13/lib/python3.10/site-packages (from pyowm) (2.5.0)\n",
      "Requirement already satisfied: PySocks<2,>=1.7.1 in /usr/local/python/3.10.13/lib/python3.10/site-packages (from pyowm) (1.7.1)\n",
      "Requirement already satisfied: charset-normalizer<4,>=2 in /home/codespace/.local/lib/python3.10/site-packages (from requests<3,>=2.20.0->pyowm) (3.3.2)\n",
      "Requirement already satisfied: idna<4,>=2.5 in /home/codespace/.local/lib/python3.10/site-packages (from requests<3,>=2.20.0->pyowm) (3.6)\n",
      "Requirement already satisfied: urllib3<3,>=1.21.1 in /usr/local/python/3.10.13/lib/python3.10/site-packages (from requests<3,>=2.20.0->pyowm) (2.0.7)\n",
      "Requirement already satisfied: certifi>=2017.4.17 in /home/codespace/.local/lib/python3.10/site-packages (from requests<3,>=2.20.0->pyowm) (2023.11.17)\n",
      "\n",
      "\u001b[1m[\u001b[0m\u001b[34;49mnotice\u001b[0m\u001b[1;39;49m]\u001b[0m\u001b[39;49m A new release of pip is available: \u001b[0m\u001b[31;49m23.3.2\u001b[0m\u001b[39;49m -> \u001b[0m\u001b[32;49m24.0\u001b[0m\n",
      "\u001b[1m[\u001b[0m\u001b[34;49mnotice\u001b[0m\u001b[1;39;49m]\u001b[0m\u001b[39;49m To update, run: \u001b[0m\u001b[32;49mpip install --upgrade pip\u001b[0m\n",
      "Note: you may need to restart the kernel to use updated packages.\n"
     ]
    }
   ],
   "source": [
    "%pip install pyowm"
   ]
  },
  {
   "cell_type": "code",
   "execution_count": 7,
   "metadata": {},
   "outputs": [],
   "source": [
    "from pyowm import OWM\n",
    "from pyowm.utils import config\n",
    "from pyowm.utils import timestamps\n"
   ]
  },
  {
   "cell_type": "code",
   "execution_count": 18,
   "metadata": {},
   "outputs": [],
   "source": [
    "import pandas as pd"
   ]
  },
  {
   "cell_type": "markdown",
   "metadata": {},
   "source": []
  },
  {
   "cell_type": "code",
   "execution_count": null,
   "metadata": {},
   "outputs": [],
   "source": [
    "from pyowm.owm import OWM\n",
    "owm = OWM('db5829c814693c6429a0ea9db06f3dce')\n",
    "\n",
    "mgr = owm.weather_manager()\n",
    "\n",
    "\n",
    "# Function to retrieve weather data for a city\n",
    "def get_weather(city):\n",
    "    observation = mgr.weather_at_place(city)\n",
    "    w = observation.weather\n",
    "    return {\n",
    "        'City': city,\n",
    "        'Detailed Status': w.detailed_status,\n",
    "        'Wind Speed': w.wind()['speed'],\n",
    "        'Wind Direction': w.wind()['deg'],\n",
    "        'Humidity': w.humidity,\n",
    "        'Temperature': w.temperature('celsius')['temp'],\n",
    "        'Max Temperature': w.temperature('celsius')['temp_max'],\n",
    "        'Min Temperature': w.temperature('celsius')['temp_min'],\n",
    "        'Rain': w.rain,\n",
    "        'Heat Index': w.heat_index,\n",
    "        'Clouds': w.clouds\n",
    "    }\n",
    "\n",
    "# List of important cities in the United States\n",
    "important_cities_us = [\n",
    "    'New York,US', 'Los Angeles,US', 'Chicago,US', 'Houston,US', 'Phoenix,US',\n",
    "    'Philadelphia,US', 'San Antonio,US', 'San Diego,US', 'Dallas,US', 'San Jose,US',\n",
    "    'Austin,US', 'Jacksonville,US', 'San Francisco,US', 'Columbus,US', 'Fort Worth,US',\n",
    "    'Indianapolis,US', 'Charlotte,US', 'Seattle,US', 'Denver,US', 'Washington,US',\n",
    "    'Boston,US', 'El Paso,US', 'Nashville,US', 'Detroit,US', 'Oklahoma City,US',\n",
    "    'Portland,US', 'Las Vegas,US', 'Memphis,US', 'Louisville,US', 'Milwaukee,US'\n",
    "]\n",
    "\n",
    "# Retrieve weather data for each city\n",
    "weather_data = [get_weather(city) for city in important_cities_us]\n",
    "\n",
    "# Create DataFrame from the weather data\n",
    "df_weather = pd.DataFrame(weather_data)\n"
   ]
  },
  {
   "cell_type": "code",
   "execution_count": null,
   "metadata": {},
   "outputs": [],
   "source": [
    "# Display the DataFrame\n",
    "df_weather.head()"
   ]
  }
 ],
 "metadata": {
  "kernelspec": {
   "display_name": "Python 3",
   "language": "python",
   "name": "python3"
  },
  "language_info": {
   "codemirror_mode": {
    "name": "ipython",
    "version": 3
   },
   "file_extension": ".py",
   "mimetype": "text/x-python",
   "name": "python",
   "nbconvert_exporter": "python",
   "pygments_lexer": "ipython3",
   "version": "3.10.13"
  }
 },
 "nbformat": 4,
 "nbformat_minor": 2
}
